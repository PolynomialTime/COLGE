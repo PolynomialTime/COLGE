{
 "cells": [
  {
   "cell_type": "code",
   "execution_count": 74,
   "metadata": {},
   "outputs": [],
   "source": [
    "import networkx as nx\n",
    "import torch\n",
    "import matplotlib.pyplot as plt\n",
    "import numpy as np\n",
    "from sklearn import decomposition\n",
    "import pulp"
   ]
  },
  {
   "cell_type": "code",
   "execution_count": null,
   "metadata": {},
   "outputs": [],
   "source": [
    "g =nx.erdos_renyi_graph(n=40,p=0.05)"
   ]
  },
  {
   "cell_type": "code",
   "execution_count": null,
   "metadata": {},
   "outputs": [],
   "source": [
    "Gcc = sorted(nx.connected_component_subgraphs(g), key=len, reverse=True)\n",
    "G0 = Gcc[0]"
   ]
  },
  {
   "cell_type": "code",
   "execution_count": null,
   "metadata": {},
   "outputs": [],
   "source": [
    "nx.min_edge_cover(G0)"
   ]
  },
  {
   "cell_type": "code",
   "execution_count": null,
   "metadata": {},
   "outputs": [],
   "source": [
    "a=nx.maximal_independent_set(G0)"
   ]
  },
  {
   "cell_type": "code",
   "execution_count": null,
   "metadata": {},
   "outputs": [],
   "source": [
    "#nx.draw(G0,nodelist=a,node_color='b')\n",
    "color_map = []\n",
    "for node in G0:\n",
    "    if node in a:\n",
    "        color_map.append('blue')\n",
    "    else: color_map.append('green') \n",
    "nx.draw(G0,node_color=color_map)"
   ]
  },
  {
   "cell_type": "code",
   "execution_count": null,
   "metadata": {},
   "outputs": [],
   "source": [
    "nx.subgraph(G1)"
   ]
  },
  {
   "cell_type": "code",
   "execution_count": null,
   "metadata": {},
   "outputs": [],
   "source": [
    "import sys\n",
    "import graph\n",
    "import environment\n",
    "import runner\n",
    "import agent"
   ]
  },
  {
   "cell_type": "code",
   "execution_count": null,
   "metadata": {},
   "outputs": [],
   "source": [
    "import torch"
   ]
  },
  {
   "cell_type": "code",
   "execution_count": null,
   "metadata": {},
   "outputs": [],
   "source": [
    "g=graph.Graph(\"erdos_renyi\",50,0.10)"
   ]
  },
  {
   "cell_type": "code",
   "execution_count": null,
   "metadata": {},
   "outputs": [],
   "source": [
    "from keras.models import Sequential, Model\n",
    "from keras.layers import Dense, Flatten, Input, Add, Dot, Concatenate, ReLU, Permute\n",
    "from keras.activations import relu\n",
    "from keras.optimizers import sgd\n",
    "import keras.backend as K\n",
    "import numpy as np"
   ]
  },
  {
   "cell_type": "code",
   "execution_count": null,
   "metadata": {},
   "outputs": [],
   "source": [
    "nodes=50\n",
    "p=32\n",
    "T=4\n",
    "xv = Input(shape=(nodes,))\n",
    "mu_init = Input(shape=(nodes,p))\n",
    "adj = Input(shape=(nodes, nodes))\n",
    "\n",
    "for t in range(T):\n",
    "    if t==0:\n",
    "        mu_1 = Dense(p, input_dim=nodes)(xv)\n",
    "        mu_2 = Dense(p, input_dim=p)(Dot(axes=1)([p, mu_init]))\n",
    "        mu = ReLU()(Add()([mu_1, mu_2]))\n",
    "    else:\n",
    "        mu_1 = Dense(p, input_dim=nodes)(xv)\n",
    "        mu_2 = Dense(p, input_dim=p)(Dot(axes=1)([adj, mu]))\n",
    "        mu = ReLU()(Add()([mu_1, mu_2]))\n",
    "\n",
    "q_1=Dense(p, input_dim=p)(Dot(axes=1)([adj,mu]))\n",
    "q_2=Dense(p,input_dim=p)(mu)\n",
    "q=ReLU()(Concatenate()([q_1,q_2]))\n",
    "\n",
    "model = Model(inputs=[xv, mu_init, adj], outputs=q)\n",
    "model.compile(optimizer='rmsprop',\n",
    "        loss='mse')"
   ]
  },
  {
   "cell_type": "code",
   "execution_count": null,
   "metadata": {},
   "outputs": [],
   "source": [
    "xv_=np.random.randn(1,nodes,1)\n",
    "mu_init_=np.zeros((1,nodes,p))\n",
    "adj_ = g.adj().todense() \n",
    "adj_ = np.expand_dims(adj_,axis=0)\n",
    "qp=np.random.randn(1,nodes,1)"
   ]
  },
  {
   "cell_type": "code",
   "execution_count": null,
   "metadata": {},
   "outputs": [],
   "source": [
    "adj_.shape"
   ]
  },
  {
   "cell_type": "code",
   "execution_count": null,
   "metadata": {},
   "outputs": [],
   "source": [
    "model.fit(x=[xv_,mu_init,adj],y=qp,epochs=10,steps_per_epoch=20)"
   ]
  },
  {
   "cell_type": "code",
   "execution_count": null,
   "metadata": {},
   "outputs": [],
   "source": [
    "nodes=50\n",
    "p=32\n",
    "T=3\n",
    "xv = Input(batch_shape=(1,nodes,1))\n",
    "mu_init = Input(batch_shape=(1,nodes,p))\n",
    "adj = Input(batch_shape=(1,nodes,nodes))\n",
    "\n",
    "for t in range(T):\n",
    "    if t==0:\n",
    "        mu_1 = Dense(p)(xv)\n",
    "        mu_2 = Dense(p)(Dot(axes=1)([adj,mu_init]))\n",
    "        mu = ReLU()(Add()([mu_1, mu_2]))\n",
    "    else:\n",
    "        mu_1 = Dense(p)(xv)\n",
    "        mu_2 = Dense(p)(Dot(axes=1)([adj,mu]))\n",
    "        mu = ReLU()(Add()([mu_1, mu_2]))\n",
    "\n",
    "q_1=Dense(p)(Dot(axes=1)([adj,mu]))\n",
    "q_2=Dense(p)(mu)\n",
    "q_=Concatenate(axis=2)([q_1,q_2])\n",
    "q=Dense(1,activation=\"relu\")(q_)\n",
    "\n",
    "model = Model(inputs=[xv, mu_init, adj], outputs=q)\n",
    "model.compile(optimizer='rmsprop',\n",
    "        loss='mse')\n",
    "model.fit(epochs=1,steps_per_epoch=2,validation_steps=2)"
   ]
  },
  {
   "cell_type": "code",
   "execution_count": null,
   "metadata": {},
   "outputs": [],
   "source": [
    "mu_2.name"
   ]
  },
  {
   "cell_type": "code",
   "execution_count": null,
   "metadata": {},
   "outputs": [],
   "source": [
    "model.fit(x=[xv_,mu_init,adj],y=qp)"
   ]
  },
  {
   "cell_type": "code",
   "execution_count": null,
   "metadata": {},
   "outputs": [],
   "source": [
    "mu.shape"
   ]
  },
  {
   "cell_type": "code",
   "execution_count": null,
   "metadata": {},
   "outputs": [],
   "source": [
    "Concatenate(axis=2)([q_1,q_2]).shape"
   ]
  },
  {
   "cell_type": "code",
   "execution_count": null,
   "metadata": {},
   "outputs": [],
   "source": [
    "q.shape"
   ]
  },
  {
   "cell_type": "code",
   "execution_count": null,
   "metadata": {},
   "outputs": [],
   "source": [
    "a=Dot(axes=1)([adj,mu_init])"
   ]
  },
  {
   "cell_type": "code",
   "execution_count": null,
   "metadata": {},
   "outputs": [],
   "source": [
    "a.shape"
   ]
  },
  {
   "cell_type": "code",
   "execution_count": null,
   "metadata": {},
   "outputs": [],
   "source": [
    "############ torch"
   ]
  },
  {
   "cell_type": "code",
   "execution_count": null,
   "metadata": {},
   "outputs": [],
   "source": [
    "nodes=50\n",
    "p=32\n",
    "T=3\n",
    "xv = Input(batch_shape=(1,nodes,1))\n",
    "mu_init = Input(batch_shape=(1,nodes,p))\n",
    "adj = Input(batch_shape=(1,nodes,nodes))\n",
    "\n",
    "for t in range(T):\n",
    "    if t==0:\n",
    "        mu_1 = Dense(p)(xv)\n",
    "        mu_2 = Dense(p)(Dot(axes=1)([adj,mu_init]))\n",
    "        mu = ReLU()(Add()([mu_1, mu_2]))\n",
    "    else:\n",
    "        mu_1 = Dense(p)(xv)\n",
    "        mu_2 = Dense(p)(Dot(axes=1)([adj,mu]))\n",
    "        mu = ReLU()(Add()([mu_1, mu_2]))\n",
    "\n",
    "q_1=Dense(p)(Dot(axes=1)([adj,mu]))\n",
    "q_2=Dense(p)(mu)\n",
    "q_=Concatenate(axis=2)([q_1,q_2])\n",
    "q=Dense(1,activation=\"relu\")(q_)\n",
    "\n",
    "model = Model(inputs=[xv, mu_init, adj], outputs=q)\n",
    "model.comp²ile(optimizer='rmsprop',\n",
    "        loss='mse')\n",
    "model.fit(epochs=1,steps_per_epoch=2,validation_steps=2)"
   ]
  },
  {
   "cell_type": "code",
   "execution_count": null,
   "metadata": {},
   "outputs": [],
   "source": [
    "batch_size=8\n",
    "T=4\n",
    "xv=torch.randn(batch_size,nodes,1)\n",
    "mu_init=torch.randn(batch_size,nodes,p)\n",
    "adj=torch.randn(batch_size,nodes,nodes)\n",
    "y=torch.randn(batch_size,nodes,1)\n",
    "\n",
    "class S2V_QN(torch.nn.Module):\n",
    "    def __init__(self,p,nodes):\n",
    "        \n",
    "        super(S2V_QN,self).__init__()\n",
    "        self.mu_1=torch.nn.Linear(1,p)\n",
    "        self.mu_2=torch.nn.Linear(p,p)\n",
    "        self.q_1=torch.nn.Linear(p,p)\n",
    "        self.q_2=torch.nn.Linear(p,p)\n",
    "        self.q=torch.nn.Linear(2*p,1)\n",
    "    \n",
    "    def forward(self,xv,adj,mu_init,T):\n",
    "\n",
    "        for t in range(T):\n",
    "            if t==0:\n",
    "                mu_1=self.mu_1(xv)\n",
    "                mu_2=self.mu_2(torch.matmul(adj,mu_init))\n",
    "                mu=torch.add(mu_1,mu_2).clamp(0)\n",
    "            \n",
    "            else:\n",
    "                mu_1=self.mu_1(xv)\n",
    "                mu_2=self.mu_2(torch.matmul(adj,mu))\n",
    "                mu=torch.add(mu_1,mu_2).clamp(0)\n",
    "                \n",
    "\n",
    "        q_1=self.q_1(torch.matmul(adj,mu))\n",
    "        q_2=self.q_2(mu)\n",
    "        q_=torch.cat((q_1,q_2),dim=2)\n",
    "        q=self.q(q_)\n",
    "        return q\n",
    "model=S2V_QN(32,50)\n",
    "\n",
    "criterion=torch.nn.MSELoss(reduction='sum')\n",
    "optimizer=torch.optim.SGD(model.parameters(),lr=1e-10,momentum=0.9)\n",
    "for t in range(67):\n",
    "    y_pred = model(xv,adj,mu_init,T)\n",
    "    loss = criterion(y_pred, y)\n",
    "    print(t, loss.item())\n",
    "\n",
    "    # Zero gradients, perform a backward pass, and update the weights.\n",
    "    optimizer.zero_grad()\n",
    "    loss.backward()\n",
    "    optimizer.step()"
   ]
  },
  {
   "cell_type": "code",
   "execution_count": null,
   "metadata": {},
   "outputs": [],
   "source": [
    "torch.cat((q_1,q_2),dim=1).shape"
   ]
  },
  {
   "cell_type": "code",
   "execution_count": null,
   "metadata": {},
   "outputs": [],
   "source": [
    "a.shape"
   ]
  },
  {
   "cell_type": "code",
   "execution_count": null,
   "metadata": {},
   "outputs": [],
   "source": [
    "mu_1.shape"
   ]
  },
  {
   "cell_type": "code",
   "execution_count": null,
   "metadata": {},
   "outputs": [],
   "source": [
    "mu_2.shape"
   ]
  },
  {
   "cell_type": "code",
   "execution_count": null,
   "metadata": {},
   "outputs": [],
   "source": [
    "xv=torch.randn(8,nodes,1)\n",
    "mu_init=torch.randn(1,nodes,p)\n",
    "#mu_init=np.random.randn(8,nodes,p)\n",
    "adj=torch.randn(1,nodes,nodes)\n",
    "mu1=torch.nn.Linear(1,p)(xv)\n",
    "mu2=torch.nn.Linear(p,p)(torch.matmul(adj,mu_init))\n",
    "mu_=torch.add(mu1,mu2).clamp(0)\n",
    "\n",
    "mu1=torch.nn.Linear(1,p)(xv)\n",
    "mu2=torch.nn.Linear(p,p)(torch.matmul(adj,mu_))\n",
    "mu_=torch.add(mu1,mu2).clamp(0)\n",
    "\n",
    "q_1=torch.nn.Linear(p,p)(torch.matmul(adj,mu_))\n",
    "q_2=torch.nn.Linear(p,p)(mu_)\n",
    "q_=torch.cat((q_1,q_2),dim=-1)\n",
    "q=torch.nn.Linear(2*p,1)(q_)"
   ]
  },
  {
   "cell_type": "code",
   "execution_count": null,
   "metadata": {},
   "outputs": [],
   "source": [
    "q[2,0]"
   ]
  },
  {
   "cell_type": "markdown",
   "metadata": {},
   "source": [
    "##### q_1.shape"
   ]
  },
  {
   "cell_type": "code",
   "execution_count": null,
   "metadata": {},
   "outputs": [],
   "source": [
    "torch.matmul(adj,mu_).shape"
   ]
  },
  {
   "cell_type": "code",
   "execution_count": null,
   "metadata": {},
   "outputs": [],
   "source": [
    "q.shape"
   ]
  },
  {
   "cell_type": "code",
   "execution_count": null,
   "metadata": {},
   "outputs": [],
   "source": [
    "torch.from_numpy(np.expand_dims(g.adj().todense().astype(int),axis=0))"
   ]
  },
  {
   "cell_type": "code",
   "execution_count": null,
   "metadata": {},
   "outputs": [],
   "source": [
    "a=np.zeros(4)"
   ]
  },
  {
   "cell_type": "code",
   "execution_count": null,
   "metadata": {},
   "outputs": [],
   "source": [
    "b=3\n",
    "c=4\n",
    "d=np.zeros(4)"
   ]
  },
  {
   "cell_type": "code",
   "execution_count": null,
   "metadata": {},
   "outputs": [],
   "source": [
    "a=torch.zeros(8,1)\n",
    "a[1]=1\n",
    "np.sum(a.numpy())"
   ]
  },
  {
   "cell_type": "code",
   "execution_count": null,
   "metadata": {},
   "outputs": [],
   "source": [
    "memory.append((a,b,c,d))"
   ]
  },
  {
   "cell_type": "code",
   "execution_count": null,
   "metadata": {},
   "outputs": [],
   "source": [
    "memory"
   ]
  },
  {
   "cell_type": "code",
   "execution_count": null,
   "metadata": {},
   "outputs": [],
   "source": [
    "import random\n",
    "minibatch = random.sample(memory, 8 - 1)\n",
    "minibatch.append(memory[-1])"
   ]
  },
  {
   "cell_type": "code",
   "execution_count": null,
   "metadata": {},
   "outputs": [],
   "source": [
    "for a,b,c,d in minibatch:\n",
    "    print(a)\n",
    "    print(b)\n",
    "    print(c)\n",
    "    print(d)"
   ]
  },
  {
   "cell_type": "code",
   "execution_count": null,
   "metadata": {},
   "outputs": [],
   "source": [
    "observation=torch.zeros(6,1)"
   ]
  },
  {
   "cell_type": "code",
   "execution_count": null,
   "metadata": {},
   "outputs": [],
   "source": [
    "observation[1]=1"
   ]
  },
  {
   "cell_type": "code",
   "execution_count": null,
   "metadata": {},
   "outputs": [],
   "source": [
    "observation[observation==0]"
   ]
  },
  {
   "cell_type": "code",
   "execution_count": null,
   "metadata": {},
   "outputs": [],
   "source": [
    "a=observation.numpy()"
   ]
  },
  {
   "cell_type": "code",
   "execution_count": null,
   "metadata": {},
   "outputs": [],
   "source": [
    "np.random.choice(np.where(a==0)[0])"
   ]
  },
  {
   "cell_type": "code",
   "execution_count": null,
   "metadata": {},
   "outputs": [],
   "source": [
    "a=[1,2,3,4]"
   ]
  },
  {
   "cell_type": "code",
   "execution_count": null,
   "metadata": {},
   "outputs": [],
   "source": [
    "for i in range(1,4):\n",
    "    print(i)"
   ]
  },
  {
   "cell_type": "code",
   "execution_count": null,
   "metadata": {},
   "outputs": [],
   "source": [
    "observation"
   ]
  },
  {
   "cell_type": "code",
   "execution_count": null,
   "metadata": {},
   "outputs": [],
   "source": [
    "#observation=observation.numpy()\n",
    "q=torch.randn(6,1).detach().numpy()\n",
    "np.where((q==np.max(q[observation==0])))[0]"
   ]
  },
  {
   "cell_type": "code",
   "execution_count": null,
   "metadata": {},
   "outputs": [],
   "source": [
    "q[observation==0"
   ]
  },
  {
   "cell_type": "code",
   "execution_count": null,
   "metadata": {},
   "outputs": [],
   "source": [
    "\n",
    "g=nx.gnp_random_graph(n=50,p=0.1)\n",
    "nx.draw(g)"
   ]
  },
  {
   "cell_type": "code",
   "execution_count": null,
   "metadata": {},
   "outputs": [],
   "source": [
    "a=torch.zeros(1,16,1)\n",
    "b=torch.ones(1,1)\n",
    "list_=[]"
   ]
  },
  {
   "cell_type": "code",
   "execution_count": null,
   "metadata": {},
   "outputs": [],
   "source": [
    "list\n",
    "list_.append((a,b,b,a))"
   ]
  },
  {
   "cell_type": "code",
   "execution_count": null,
   "metadata": {},
   "outputs": [],
   "source": [
    "np.array(list_[0][1])"
   ]
  },
  {
   "cell_type": "code",
   "execution_count": null,
   "metadata": {},
   "outputs": [],
   "source": [
    "list_"
   ]
  },
  {
   "cell_type": "code",
   "execution_count": null,
   "metadata": {},
   "outputs": [],
   "source": [
    "c=torch.empty(1,16,1)\n",
    "b=list_[0][1]\n",
    "for t,i in enumerate(list_):\n",
    "    \n",
    "    c=torch.cat((c,i[0]),dim=0)\n",
    "    b=torch.cat((b,i[1]),dim=0)\n",
    "c.shape"
   ]
  },
  {
   "cell_type": "code",
   "execution_count": null,
   "metadata": {},
   "outputs": [],
   "source": [
    "torch.empty(16,1)"
   ]
  },
  {
   "cell_type": "code",
   "execution_count": null,
   "metadata": {},
   "outputs": [],
   "source": [
    "torch.max(c,dim=1)[0]"
   ]
  },
  {
   "cell_type": "code",
   "execution_count": null,
   "metadata": {},
   "outputs": [],
   "source": [
    "d=torch.ones(6,3,1)"
   ]
  },
  {
   "cell_type": "code",
   "execution_count": null,
   "metadata": {},
   "outputs": [],
   "source": [
    "obs=torch.ones(6,3,1)\n",
    "obs[1][2]=0"
   ]
  },
  {
   "cell_type": "code",
   "execution_count": null,
   "metadata": {},
   "outputs": [],
   "source": [
    "obs[0][1]=0"
   ]
  },
  {
   "cell_type": "code",
   "execution_count": null,
   "metadata": {},
   "outputs": [],
   "source": [
    "sel=obs*(-1e5)"
   ]
  },
  {
   "cell_type": "code",
   "execution_count": null,
   "metadata": {},
   "outputs": [],
   "source": [
    "d+sel"
   ]
  },
  {
   "cell_type": "code",
   "execution_count": null,
   "metadata": {},
   "outputs": [],
   "source": [
    "r=torch.cat((torch.tensor([[1.]]),torch.tensor([[3.]])))"
   ]
  },
  {
   "cell_type": "code",
   "execution_count": null,
   "metadata": {},
   "outputs": [],
   "source": [
    "g=torch.ones(2,1)"
   ]
  },
  {
   "cell_type": "code",
   "execution_count": null,
   "metadata": {},
   "outputs": [],
   "source": [
    "g+r"
   ]
  },
  {
   "cell_type": "code",
   "execution_count": null,
   "metadata": {},
   "outputs": [],
   "source": [
    "l=torch.randn(3,5,1)"
   ]
  },
  {
   "cell_type": "code",
   "execution_count": null,
   "metadata": {},
   "outputs": [],
   "source": [
    "l"
   ]
  },
  {
   "cell_type": "code",
   "execution_count": null,
   "metadata": {},
   "outputs": [],
   "source": [
    "l[range(3),torch.tensor([0,1,2]),:]"
   ]
  },
  {
   "cell_type": "code",
   "execution_count": null,
   "metadata": {},
   "outputs": [],
   "source": [
    "l"
   ]
  },
  {
   "cell_type": "code",
   "execution_count": null,
   "metadata": {},
   "outputs": [],
   "source": [
    "ll=[38.0, 35.0, 37.0, 38.0, 37.0, 35.0, 38.0, 38.0, 38.0, 38.0, 38.0, 38.0, 37.0, 38.0, 38.0, 38.0, 38.0, 35.0, 38.0, 36.0, 34.0, 34.0, 37.0, 38.0, 35.0, 34.0, 38.0, 35.0, 38.0, 34.0, 38.0, 38.0, 35.0, 36.0, 38.0, 38.0, 38.0, 35.0, 38.0, 38.0, 38.0, 35.0, 38.0, 38.0, 33.0, 38.0, 38.0, 33.0, 32.0, 33.0, 28.0, 29.0, 32.0, 29.0, 29.0, 30.0, 29.0, 30.0, 31.0, 29.0, 29.0, 31.0, 30.0, 25.0, 30.0, 28.0, 30.0, 26.0, 27.0, 25.0, 26.0, 27.0, 26.0, 26.0, 26.0, 23.0, 23.0, 20.0, 20.0, 20.0, 21.0, 20.0, 20.0, 20.0, 20.0, 20.0, 21.0, 20.0, 20.0, 20.0, 20.0, 21.0, 21.0, 20.0, 20.0, 21.0, 20.0, 20.0, 20.0, 20.0, 20.0, 21.0, 21.0, 21.0, 20.0, 21.0, 20.0, 21.0, 21.0, 21.0, 20.0, 20.0, 20.0, 20.0, 20.0, 20.0, 20.0, 22.0, 20.0, 21.0, 21.0, 20.0, 20.0, 21.0, 21.0, 20.0, 21.0, 20.0, 21.0, 20.0, 20.0, 20.0, 20.0, 21.0, 20.0, 20.0, 21.0, 20.0, 20.0, 20.0, 20.0, 25.0, 27.0, 20.0, 25.0, 27.0, 25.0, 25.0, 25.0, 25.0]\n",
    "ll_w2V=[39.0, 38.0, 38.0, 34.0, 33.0, 34.0, 33.0, 31.0, 32.0, 35.0, 34.0, 34.0, 37.0, 38.0, 37.0, 38.0, 37.0, 36.0, 36.0, 35.0, 35.0, 33.0, 34.0, 34.0, 33.0, 34.0, 33.0, 33.0, 33.0, 32.0, 33.0, 34.0, 33.0, 33.0, 32.0, 32.0, 32.0, 32.0, 31.0, 31.0, 32.0, 31.0, 32.0, 31.0, 31.0, 30.0, 33.0, 31.0, 30.0, 31.0, 29.0, 27.0, 28.0, 28.0, 26.0, 30.0, 28.0, 30.0, 29.0, 26.0, 28.0, 26.0, 26.0, 26.0, 29.0, 26.0, 27.0, 26.0, 28.0, 28.0, 26.0, 27.0, 26.0, 26.0, 27.0, 26.0, 26.0, 26.0, 28.0, 27.0, 28.0, 26.0, 27.0, 26.0, 27.0, 27.0, 29.0, 24.0, 26.0, 26.0, 26.0, 27.0, 28.0, 26.0, 29.0, 28.0, 26.0, 27.0, 26.0, 27.0, 27.0, 26.0, 28.0, 27.0, 27.0, 27.0, 27.0, 26.0, 27.0, 26.0, 28.0, 26.0, 26.0, 26.0, 27.0, 27.0, 28.0, 27.0, 26.0, 28.0, 28.0, 26.0, 26.0, 27.0, 28.0, 26.0, 26.0, 27.0, 26.0, 26.0, 26.0, 26.0, 27.0, 26.0, 26.0, 26.0, 27.0, 27.0, 26.0, 26.0, 26.0, 26.0, 26.0, 26.0, 27.0, 26.0, 25.0, 23.0, 27.0, 23.0]"
   ]
  },
  {
   "cell_type": "code",
   "execution_count": null,
   "metadata": {},
   "outputs": [],
   "source": [
    "plt.plot(ll)\n",
    "plt.plot(ll_w2V)"
   ]
  },
  {
   "cell_type": "code",
   "execution_count": null,
   "metadata": {},
   "outputs": [],
   "source": [
    "from gensim.models import Word2Vec\n",
    "import random\n",
    "from sklearn import decomposition"
   ]
  },
  {
   "cell_type": "code",
   "execution_count": null,
   "metadata": {},
   "outputs": [],
   "source": [
    "num_paths=400\n",
    "path_length=40\n",
    "seed=12\n",
    "embed_size=32\n",
    "window_size=5"
   ]
  },
  {
   "cell_type": "code",
   "execution_count": null,
   "metadata": {},
   "outputs": [],
   "source": [
    "G = nx.gnp_random_graph(n=60,p=0.1,seed=seed)"
   ]
  },
  {
   "cell_type": "code",
   "execution_count": null,
   "metadata": {},
   "outputs": [],
   "source": [
    "nx.neighbors(G,1)"
   ]
  },
  {
   "cell_type": "code",
   "execution_count": null,
   "metadata": {},
   "outputs": [],
   "source": [
    "def random_walk(G,path_length, alpha=0, rand=random.Random(), start=None):    \n",
    "    \n",
    "    if start:\n",
    "        path = [start]\n",
    "    else:\n",
    "        # Sampling is uniform w.r.t V, and not w.r.t E\n",
    "        path = [rand.choice(list(G.nodes()))]\n",
    "\n",
    "    while len(path) < path_length:\n",
    "        cur = path[-1]\n",
    "        if len(G[cur]) > 0:\n",
    "            if rand.random() >= alpha:\n",
    "                path.append(rand.choice(list(nx.neighbors(G,cur))))\n",
    "            else:\n",
    "                path.append(path[0])\n",
    "        else:\n",
    "            break\n",
    "    return [str(node) for node in path]"
   ]
  },
  {
   "cell_type": "code",
   "execution_count": null,
   "metadata": {},
   "outputs": [],
   "source": [
    "\n",
    "\n",
    "\n",
    "\n",
    "def build_deepwalk_corpus(G, num_paths, path_length, alpha=0,rand=random.Random(0)):\n",
    "    walks = []\n",
    "\n",
    "    nodes = list(G.nodes())\n",
    "\n",
    "    for cnt in range(num_paths):\n",
    "        rand.shuffle(nodes)\n",
    "        for node in nodes:\n",
    "            \n",
    "            walks.append(random_walk(G,path_length, rand=rand, alpha=alpha, start=node))\n",
    "\n",
    "    return walks"
   ]
  },
  {
   "cell_type": "code",
   "execution_count": null,
   "metadata": {},
   "outputs": [],
   "source": [
    "print(\"Walking...\")\n",
    "walks = build_deepwalk_corpus(g, num_paths=num_paths,\n",
    "                                    path_length=path_length, alpha=0,\n",
    "                                    rand=random.Random(seed))"
   ]
  },
  {
   "cell_type": "code",
   "execution_count": null,
   "metadata": {},
   "outputs": [],
   "source": [
    "vertex_counts=dict(G.degree())"
   ]
  },
  {
   "cell_type": "code",
   "execution_count": null,
   "metadata": {},
   "outputs": [],
   "source": [
    "print(\"Training...\")\n",
    "model = Word2Vec(walks,size=embed_size, window=window_size\n",
    "                 , min_count=0, sg=1, hs=1,iter=1, negative=0,compute_loss=True)\n",
    "#model.build_vocab(walks)\n",
    "model.get_latest_training_loss()"
   ]
  },
  {
   "cell_type": "code",
   "execution_count": null,
   "metadata": {},
   "outputs": [],
   "source": [
    "  # prepare the model vocabulary\n",
    "for i in range(10):\n",
    "    print(model.train(walks,epochs=1,total_examples=model.corpus_count,compute_loss=True))\n",
    "    print(model.get_latest_training_loss())\n",
    "#model.get_latest_training_loss()"
   ]
  },
  {
   "cell_type": "code",
   "execution_count": null,
   "metadata": {},
   "outputs": [],
   "source": [
    "X=model[list(model.wv.vocab)]"
   ]
  },
  {
   "cell_type": "code",
   "execution_count": null,
   "metadata": {},
   "outputs": [],
   "source": [
    "words = map(int,list(model.wv.vocab))\n",
    "deg=list(words)"
   ]
  },
  {
   "cell_type": "code",
   "execution_count": null,
   "metadata": {},
   "outputs": [],
   "source": [
    "s=[i[1] for i in list(g.degree(deg))]"
   ]
  },
  {
   "cell_type": "code",
   "execution_count": null,
   "metadata": {},
   "outputs": [],
   "source": [
    "deg_n=list(nx.average_neighbor_degree(g,list(words)).values())"
   ]
  },
  {
   "cell_type": "code",
   "execution_count": null,
   "metadata": {},
   "outputs": [],
   "source": [
    "c=[deg_n[i] for i in deg]"
   ]
  },
  {
   "cell_type": "code",
   "execution_count": null,
   "metadata": {},
   "outputs": [],
   "source": [
    "pca = decomposition.PCA(n_components=2)\n",
    "\n",
    "result = pca.fit_transform(X)"
   ]
  },
  {
   "cell_type": "code",
   "execution_count": null,
   "metadata": {},
   "outputs": [],
   "source": [
    "u=torch.from_numpy(np.expand_dims(X,axis=0))\n",
    "u.shape"
   ]
  },
  {
   "cell_type": "code",
   "execution_count": null,
   "metadata": {},
   "outputs": [],
   "source": [
    "\n",
    "plt.scatter(result[:, 0], result[:, 1],s=[i**3 for i in s],c=c)"
   ]
  },
  {
   "cell_type": "code",
   "execution_count": null,
   "metadata": {},
   "outputs": [],
   "source": [
    "X=model_skip[model_skip.wv.vocab]"
   ]
  },
  {
   "cell_type": "code",
   "execution_count": null,
   "metadata": {},
   "outputs": [],
   "source": [
    "pca = decomposition.PCA(n_components=2)\n",
    "\n",
    "result = pca.fit_transform(X)"
   ]
  },
  {
   "cell_type": "code",
   "execution_count": null,
   "metadata": {},
   "outputs": [],
   "source": [
    "\n",
    "plt.scatter(result[:, 0], result[:, 1])\n"
   ]
  },
  {
   "cell_type": "code",
   "execution_count": null,
   "metadata": {},
   "outputs": [],
   "source": [
    "g = nx.erdos_renyi_graph(n=50, p=0.07, seed=seed)"
   ]
  },
  {
   "cell_type": "code",
   "execution_count": null,
   "metadata": {},
   "outputs": [],
   "source": [
    "nx.draw(g)"
   ]
  },
  {
   "cell_type": "code",
   "execution_count": null,
   "metadata": {},
   "outputs": [],
   "source": [
    "g[9]"
   ]
  },
  {
   "cell_type": "code",
   "execution_count": null,
   "metadata": {},
   "outputs": [],
   "source": [
    "nx.adjacency_matrix(g).todense()[9].sum()"
   ]
  },
  {
   "cell_type": "code",
   "execution_count": null,
   "metadata": {},
   "outputs": [],
   "source": [
    "l=[29.0, 34.0, 36.0, 37.0, 36.0, 37.0, 37.0, 37.0, 37.0, 38.0, 38.0, 38.0, 36.0, 36.0, 36.0, 36.0, 36.0, 36.0, 34.0, 32.0, 32.0, 33.0, 34.0, 31.0, 33.0, 34.0, 35.0, 33.0, 34.0, 33.0, 32.0, 33.0, 32.0, 32.0, 34.0, 33.0, 34.0, 34.0, 33.0, 33.0, 34.0, 35.0, 32.0, 32.0, 32.0, 32.0, 32.0, 29.0, 26.0, 29.0, 26.0, 27.0, 27.0, 27.0, 28.0, 29.0, 26.0, 26.0, 26.0, 27.0, 26.0, 26.0, 26.0, 26.0, 27.0, 27.0, 27.0, 27.0, 26.0, 27.0, 26.0, 27.0, 28.0, 26.0, 27.0, 28.0, 26.0, 26.0, 28.0, 27.0, 26.0, 26.0, 26.0, 26.0, 26.0, 27.0, 29.0, 28.0, 26.0, 27.0, 28.0, 26.0, 26.0, 26.0, 28.0, 27.0, 27.0, 26.0, 26.0, 26.0, 27.0, 26.0, 26.0, 26.0, 27.0, 26.0, 27.0, 27.0, 26.0, 27.0, 27.0, 27.0, 26.0, 26.0, 28.0, 27.0, 26.0, 27.0, 29.0, 26.0, 25.0, 28.0, 26.0, 26.0, 26.0, 27.0, 26.0, 26.0, 26.0, 27.0, 26.0, 29.0, 26.0, 26.0, 26.0, 27.0, 26.0, 26.0, 26.0, 26.0, 26.0, 26.0, 26.0, 26.0, 28.0, 24.0, 27.0, 27.0, 27.0, 26.0]"
   ]
  },
  {
   "cell_type": "code",
   "execution_count": null,
   "metadata": {},
   "outputs": [],
   "source": [
    "plt.plot(l)"
   ]
  },
  {
   "cell_type": "code",
   "execution_count": null,
   "metadata": {},
   "outputs": [],
   "source": [
    "seed=12\n",
    "g = nx.erdos_renyi_graph(n=20, p=0.12, seed=seed)"
   ]
  },
  {
   "cell_type": "code",
   "execution_count": null,
   "metadata": {},
   "outputs": [],
   "source": [
    "nx.draw(g)"
   ]
  },
  {
   "cell_type": "code",
   "execution_count": null,
   "metadata": {},
   "outputs": [],
   "source": [
    "l_s2V_r2_5=np.array([352.7248308566741, 381.4600192460666, 359.16362679862493, 379.32293933471976, 382.0555117252666, 371.90396643360657, 372.2236827682573, 382.54333954643226, 382.8811235204283, 371.7552965261283, 382.5739060503756, 363.04020965227267, 334.49284137227954, 349.49612348996345, 349.3759900083172, 302.5438685951179, 299.10087579562725, 298.12188394805366, 298.8610531161149, 268.95167046977565, 248.7651847687759, 218.53560985224448, 254.12744710081546, 238.485269022608, 258.4538372912206, 228.25281361569608, 278.44659636803146, 238.37170459313967, 248.37180712218958, 238.4436019939844, 268.65285042378645, 228.28463179751427, 248.39736240883116, 238.407704558087, 238.3811019939844, 258.3424297013648, 265.8468524720644, 238.30930712218958, 258.49543313184495, 238.4221180585299, 238.34520455808703, 248.34060721889446, 228.3327049200439, 248.30930712218958, 238.30930712218955, 238.31525950314196, 228.28463179751427, 238.38399169687418, 238.42509586243483, 228.2702049200439, 238.41253547596142, 268.52843759027746, 238.35642666930914, 228.2702049200439, 258.4441881736324, 218.5004366920713, 218.2388623495709, 236.4864889208065, 258.27020492004397, 238.27020492004394, 228.27020492004394, 228.27020492004394, 228.27020492004394, 248.44323203912364, 248.34060721889452, 228.33040862730647, 228.31784824083303, 228.33040862730647, 228.27020492004394, 238.40477066877378, 238.33040862730647, 228.33040862730647, 228.31784824083303, 238.43068032757816, 246.62703839885597, 218.3193089718132, 248.4106091285596, 228.43068032757816, 238.27020492004394, 244.38545076621955, 218.40560382701034, 228.43068032757816, 238.4770981254665, 228.43068032757816, 248.43068032757816, 238.43068032757816, 238.4713207216668, 228.43068032757816, 228.43068032757816, 228.46407979847763, 248.61876479213313, 218.47727651891117, 238.48147397837178, 228.43068032757816, 238.66190700320135, 228.49318032757816, 228.43068032757816, 228.43068032757816, 228.43068032757816, 238.43068032757816, 228.2702049200439, 228.5072943878364, 228.43068032757816, 234.38393561470443, 244.45026558103436, 234.4027209566748, 254.49935560806557, 234.4145512953201, 228.4624985093963, 234.38467872465802, 228.6058805564111, 228.4624985093963, 234.44636947713826, 228.5249985093963, 228.4624985093963, 244.44636947713826, 228.3020231018621, 234.44636947713826, 244.36800900949925, 275.8696957278203, 234.44636947713826, 224.4929656684713, 244.4145512953201, 244.3576889413989, 226.58496179490308, 234.4145512953201, 244.4463694771383, 234.4463694771383, 244.2540758877859, 244.2540758877859, 244.2540758877859, 244.23668458343803, 234.23668458343803, 234.23668458343803, 243.61151915746612, 244.57125001800347, 234.23668458343803, 244.5123867931555, 234.35768894139892, 244.3460977768666, 244.4463694771383, 234.28589406960407, 234.28589406960404, 244.49499548880772, 254.25623085425866, 248.28026766042515, 244.26850276525622, 234.4463694771383, 229.72275480917918, 244.4463694771383])\n",
    "l_s2V_r2_3=np.array([352.2369222144628, 350.6401166585577, 346.2104014704054, 371.99494741859894, 413.61294275927287, 413.18138220518574, 390.1724826727588, 413.66523004636196, 382.59400031948627, 413.45441832223577, 413.8572899023649, 349.2909984038013, 349.34199780481174, 379.1065720245539, 379.40946001205947, 378.5823800530794, 370.40887151081586, 338.4484430395388, 299.83629928679875, 299.8685054059614, 330.06960885798014, 309.79989486995953, 299.87175215920814, 309.9541843469035, 299.8321009891222, 309.8321009891222, 309.66034649519275, 296.57809541294165, 309.71256425793683, 299.66034649519275, 309.88645804156107, 299.62503478596796, 299.5693380672278, 350.066807737532, 330.06960885798014, 350.026049103894, 356.7610484702926, 336.8138843579532, 386.80720041885684, 319.6868101482868, 299.6690045038507, 330.0439678323391, 299.6690045038507, 299.6690045038507, 330.2106344990058, 300.6225692318057, 340.2106344990058, 330.2106344990058, 340.0439678323391, 340.05587259424385, 330.06960885798014, 350.04396783233915, 352.4933227734436, 299.68823527308155, 359.93158125495887, 299.6690045038507, 309.9738832872545, 349.83573984147046, 350.2106344990058, 330.1080703964417, 299.6690045038507, 359.93158125495887, 309.7382476600504, 290.01091856138595, 340.0612770221547, 319.9495502152872, 349.93158125495887, 349.90755528093297, 299.64236160521295, 279.8622450356227, 339.8975241084018, 319.7060415408877, 300.0333294795013, 339.9396260956444, 289.8357892789038, 299.6826399827036, 339.9122299907547, 330.08151361988484, 309.3955206976995, 319.96663522722514, 299.87435120287597, 315.84754304371484, 290.0438189899908, 289.81014825326275, 289.9604856566575, 299.8487101772349, 299.9539957697328, 308.321133765757, 339.91577437665205, 299.8487101772349, 299.874351202876, 339.8231817840595, 299.93529026381503, 329.8625870411118, 299.9576845362093, 329.81127702215474, 329.8231817840595, 299.8487101772349, 299.75710964813436, 329.8231817840595, 320.0439678323391, 289.616042473459, 289.87435120287597, 309.9396260956444, 280.1271523233242, 299.95433197799736, 319.9304441839689, 289.93204351056823, 279.7986701486261, 279.67671094442164, 300.0477139855418, 270.0140987102706, 279.93204351056823, 289.893263661782, 299.89461035548806, 289.93204351056823, 319.8030098263875, 289.89461035548806, 270.11666281283465, 259.68734619267303, 279.9096055182773, 289.93204351056823, 299.84262775085193, 266.18376785295897, 280.1166628128347, 299.89461035548806, 256.5341256950589, 259.7051318928116, 270.0695202755386, 350.17871653419144, 299.7921677599946, 300.16248093806456, 300.058673714692, 303.126575645069, 242.27322070367444, 259.8384618471337, 249.6977094906524, 359.8088206017635, 280.058673714692, 282.3334976312655, 261.97995961781476, 292.34536030025413, 251.11876532455588, 259.8126999988654, 279.89461035548806, 269.8030098263875, 267.39252098808305, 278.8351058596758, 252.22585862542854, 369.6867967922397])\n",
    "l_w2v_r2_5=np.array([322.07988831830943, 369.023374822059, 355.51186206580945, 375.9079924072029, 380.67072398361876, 363.2350370487213, 368.9572476256686, 369.18933186696347, 379.15878240667706, 379.46243192480034, 359.2500409629357, 369.31481287718134, 299.311601059759, 287.57931832300255, 290.40524224313697, 270.27900125215916, 259.9675005306584, 259.7617570051781, 249.98594261489004, 249.88676182491974, 249.91451404346142, 239.86338812259868, 239.86338812259868, 239.86338812259868, 239.7085873677979, 249.86338812259868, 249.86338812259868, 249.80896330764753, 249.87193513114568, 249.75862621783676, 239.97291193212249, 250.18920582341636, 249.86338812259868, 239.86338812259868, 239.84910240831294, 239.86338812259868, 239.97291193212249, 259.94910240831297, 249.8750840290314, 249.8133492725598, 239.7776738368844, 239.86338812259868, 260.1832145924251, 239.86338812259868, 239.86338812259868, 239.9014833606939, 239.86338812259868, 240.15230106151162, 239.86338812259868, 239.86338812259868, 249.86338812259868, 229.8919595511701, 239.86338812259868, 239.9414833606939, 240.16452328373379, 250.1245232837338, 240.1245232837338, 240.1245232837338, 240.1245232837338, 258.39317407738463, 249.97688018609074, 239.86096832017887, 239.91100717021772, 249.91100717021774, 240.12452328373382, 270.1364280456386, 240.1245232837338, 237.55309471230524, 250.19717840638899, 260.33126931547986, 240.1523010615116, 250.13621919016654, 240.1523010615116, 270.2413494400336, 260.33682487103545, 240.1245232837338, 250.03440506861563, 240.1245232837338, 240.11261852182903, 240.1245232837338, 239.00150741071795, 250.19288547709604, 240.1245232837338, 250.15209220603953, 260.0192951785057, 250.24465315386368, 250.0864280456386, 240.11499947421, 250.0864280456386, 250.0864280456386, 250.11261852182903, 270.08642804563857, 250.1264280456386, 250.08245979167035, 240.11261852182903, 250.09833280754336, 250.0864280456386, 260.08642804563857, 250.0864280456386, 250.0864280456386, 240.1523010615116, 240.11261852182903, 240.11261852182906, 250.11261852182903, 250.12055502976554, 250.11261852182903, 250.16579312500363, 240.11261852182906, 240.11261852182906, 250.11261852182903, 240.04328230249283, 249.91100717021774, 239.91100717021774, 239.91100717021774, 239.91100717021774, 259.90205612126664, 249.91955417876474, 240.03351799272855, 239.91100717021774, 270.3987296329402, 260.09090135011195, 239.91100717021774, 239.91100717021774, 236.6564617156723, 239.896721455932, 239.91100717021774, 239.90096832017886, 249.86096832017887, 249.90096832017886, 249.91100717021774, 239.86096832017887, 229.88243574164625, 249.75620641541695, 239.86096832017887, 249.86096832017887, 249.86096832017887, 239.77525403446458, 239.86096832017887, 239.86096832017887, 249.946721455932, 259.9195541787647, 239.9538643130748, 239.9004808544282, 239.86096832017887, 239.84668260589314, 249.82071412992462, 239.98347914268965, 239.86338812259868, 239.8133492725598, 239.8133492725598])\n",
    "l_w2v_r2_3=np.array([312.85476197115764, 352.81521735413577, 390.8529351785793, 366.76223923623445, 382.79077250035954, 391.6975651464303, 382.88842447843336, 382.5607212704757, 382.976811463058, 382.50329963693156, 382.9860564152683, 345.7670221026357, 336.530647903299, 326.45720156709575, 296.22485890629014, 306.0257762578888, 285.96259372051276, 276.13911117847647, 268.6797174279243, 225.90648115633567, 225.91789256774706, 236.12777741005843, 235.8771017769563, 236.82141015641153, 235.88498653731713, 235.84932399917852, 235.80867261431206, 235.81027562065645, 235.75938740877683, 255.95982381788266, 235.80867261431206, 235.81306780163197, 235.82316881173298, 225.85668280989483, 245.82316881173298, 245.78678630854012, 245.91187848915234, 245.7724864805453, 235.82316881173298, 245.95740850679795, 235.82316881173298, 245.78983547839965, 235.87296301807612, 225.91789256774706, 255.84779228883255, 225.91789256774706, 248.6582436771336, 235.82316881173298, 249.1830488903704, 245.82316881173298, 236.03443218428671, 245.82316881173298, 245.8493239991785, 235.86981625867935, 235.78983547839965, 245.8493239991785, 235.82316881173298, 235.82316881173298, 245.74168733025152, 225.92589468751387, 235.8108881099786, 225.91789256774706, 225.88455923441373, 225.87314782300234, 245.9915238913784, 225.90648115633567, 225.9505988033945, 238.54853488971307, 235.90648115633567, 225.90648115633567, 245.86686642669073, 235.90840484726795, 245.81904533341597, 235.77842406698826, 246.08079843549166, 237.8735405943022, 235.8117574003216, 235.87314782300234, 225.90648115633567, 245.8117574003216, 225.95648115633566, 235.95871614994994, 235.8117574003216, 235.93088031830598, 245.88013346869766, 256.01355186340635, 225.92870337855788, 238.67047407027295, 225.92870337855786, 227.85112262434293, 245.5629495238424, 257.83306022697013, 237.8861653593857, 227.84537549790616, 227.85112262434293, 227.91133767810638, 227.85112262434293, 227.85112262434293, 227.85112262434293, 237.75639886832886, 247.91969748723832, 227.92301804917955, 237.88968471584622, 237.92301804917955, 237.88968471584622, 237.92301804917957, 237.9896847158462, 227.92301804917955, 227.85112262434293, 257.93022315087114, 247.88815966138, 257.92454869539836, 227.92301804917955, 227.8177892910096, 237.89143188286855, 238.05685643301794, 248.67260109288026, 227.90093105346173, 237.85112262434293, 227.69831497798694, 227.85112262434293, 227.85112262434293, 247.8482946279666, 237.8482946279666, 237.85112262434296, 227.85112262434293, 227.87890040212076, 227.7955670687874, 237.76122789089985, 227.87941331770594, 247.8020186816906, 227.8020186816906, 227.8020186816906, 227.8020186816906, 227.8230713132696, 227.8020186816906, 227.80201868169064, 227.80201868169064, 227.7686853483573, 237.80201868169064, 227.79052442881706, 237.90454393421587, 237.78350016317214, 237.82054688731563, 227.80201868169064, 247.92818266079584, 237.8309210658562, 227.64714538734364, 227.80201868169064, 237.8703947500667])\n",
    "\n",
    "plt.plot(l_s2V_r2_5*-1, label= \"S2V_5\")\n",
    "plt.plot(l_s2V_r2_3*-1, label=\"S2V_3\")\n",
    "plt.plot(l_w2v_r2_5*-1,label=\"W2V_5\")\n",
    "plt.plot(l_w2v_r2_3*-1,label=\"W2V_3\")\n",
    "plt.xlabel(\"epochs\")\n",
    "plt.ylabel(\"cumulative reward\")\n",
    "plt.legend(loc=4)\n",
    "plt.show()"
   ]
  },
  {
   "cell_type": "code",
   "execution_count": null,
   "metadata": {},
   "outputs": [],
   "source": []
  },
  {
   "cell_type": "code",
   "execution_count": null,
   "metadata": {},
   "outputs": [],
   "source": []
  },
  {
   "cell_type": "code",
   "execution_count": null,
   "metadata": {},
   "outputs": [],
   "source": []
  },
  {
   "cell_type": "code",
   "execution_count": null,
   "metadata": {},
   "outputs": [],
   "source": [
    "ll = np.loadtxt('test.out')"
   ]
  },
  {
   "cell_type": "code",
   "execution_count": null,
   "metadata": {},
   "outputs": [],
   "source": [
    "len(ll)"
   ]
  },
  {
   "cell_type": "code",
   "execution_count": null,
   "metadata": {},
   "outputs": [],
   "source": [
    "ll[-50000:]"
   ]
  },
  {
   "cell_type": "code",
   "execution_count": null,
   "metadata": {},
   "outputs": [],
   "source": [
    "ll[0]"
   ]
  },
  {
   "cell_type": "code",
   "execution_count": null,
   "metadata": {},
   "outputs": [],
   "source": [
    "plt.plot(ll)"
   ]
  },
  {
   "cell_type": "code",
   "execution_count": null,
   "metadata": {},
   "outputs": [],
   "source": [
    "cc=[]\n",
    "for i in range(len(ll[-50000:])):\n",
    "    cc.append(np.mean(ll[-50000+i:-49900+i]))"
   ]
  },
  {
   "cell_type": "code",
   "execution_count": null,
   "metadata": {},
   "outputs": [],
   "source": [
    "plt.plot(cc)\n",
    "plt.show"
   ]
  },
  {
   "cell_type": "code",
   "execution_count": null,
   "metadata": {},
   "outputs": [],
   "source": [
    "a=[5,6,8,9,10,11]"
   ]
  },
  {
   "cell_type": "code",
   "execution_count": null,
   "metadata": {},
   "outputs": [],
   "source": [
    "a[-5:]"
   ]
  },
  {
   "cell_type": "code",
   "execution_count": null,
   "metadata": {},
   "outputs": [],
   "source": [
    "a[-5+1:-4+1]"
   ]
  },
  {
   "cell_type": "code",
   "execution_count": null,
   "metadata": {},
   "outputs": [],
   "source": [
    "a[-5+2:-4+2]"
   ]
  },
  {
   "cell_type": "code",
   "execution_count": null,
   "metadata": {},
   "outputs": [],
   "source": [
    "a.remove(a[:-3])"
   ]
  },
  {
   "cell_type": "code",
   "execution_count": null,
   "metadata": {},
   "outputs": [],
   "source": [
    "ll_e9= np.loadtxt('test_e9.out')\n",
    "opt_set = np.loadtxt('opt_set_e9.out')"
   ]
  },
  {
   "cell_type": "code",
   "execution_count": null,
   "metadata": {},
   "outputs": [],
   "source": [
    "len(ll_e9)"
   ]
  },
  {
   "cell_type": "code",
   "execution_count": null,
   "metadata": {},
   "outputs": [],
   "source": [
    "cc=[]\n",
    "for i in range(len(ll_e9[-50000:])):\n",
    "    cc.append(np.mean(ll_e9[-50000+i:-49900+i]))"
   ]
  },
  {
   "cell_type": "code",
   "execution_count": null,
   "metadata": {},
   "outputs": [],
   "source": [
    "plt.plot(ll_e9)\n",
    "plt.show"
   ]
  },
  {
   "cell_type": "code",
   "execution_count": null,
   "metadata": {},
   "outputs": [],
   "source": [
    "ll_e6 = np.loadtxt('test_e6.out')\n",
    "opt_set = np.loadtxt('opt_set_e6.out')"
   ]
  },
  {
   "cell_type": "code",
   "execution_count": null,
   "metadata": {},
   "outputs": [],
   "source": [
    "cc=[]\n",
    "for i in range(len(ll_e6[-50000:])):\n",
    "    cc.append(np.mean(ll_e6[-50000+i:-49900+i]))"
   ]
  },
  {
   "cell_type": "code",
   "execution_count": null,
   "metadata": {},
   "outputs": [],
   "source": [
    "plt.plot(cc)\n",
    "plt.show"
   ]
  },
  {
   "cell_type": "code",
   "execution_count": null,
   "metadata": {},
   "outputs": [],
   "source": [
    "plt.plot(opt_set)"
   ]
  },
  {
   "cell_type": "code",
   "execution_count": null,
   "metadata": {},
   "outputs": [],
   "source": [
    "mu_2 = torch.nn.Linear(1, 64)\n",
    "#torch.nn.init.normal_(mu_1.weight, mean=0, std=0.01)"
   ]
  },
  {
   "cell_type": "code",
   "execution_count": null,
   "metadata": {},
   "outputs": [],
   "source": [
    "mu_1.weight"
   ]
  },
  {
   "cell_type": "code",
   "execution_count": null,
   "metadata": {},
   "outputs": [],
   "source": [
    "mu_2.weight"
   ]
  },
  {
   "cell_type": "code",
   "execution_count": null,
   "metadata": {},
   "outputs": [],
   "source": [
    "a=torch.ones(20,64,1)"
   ]
  },
  {
   "cell_type": "code",
   "execution_count": null,
   "metadata": {},
   "outputs": [],
   "source": [
    "a.shape"
   ]
  },
  {
   "cell_type": "code",
   "execution_count": null,
   "metadata": {},
   "outputs": [],
   "source": [
    "b=torch.sum(a,dim=1)"
   ]
  },
  {
   "cell_type": "code",
   "execution_count": null,
   "metadata": {},
   "outputs": [],
   "source": [
    "b.shape"
   ]
  },
  {
   "cell_type": "code",
   "execution_count": null,
   "metadata": {},
   "outputs": [],
   "source": [
    "b.reshape(20,1,1).expand(20,64,1).shape"
   ]
  },
  {
   "cell_type": "code",
   "execution_count": null,
   "metadata": {},
   "outputs": [],
   "source": [
    "c = torch.zeros(64,20,1)\n",
    "\n"
   ]
  },
  {
   "cell_type": "code",
   "execution_count": null,
   "metadata": {},
   "outputs": [],
   "source": [
    "c = torch.zeros(64,3,1).type(torch.ByteTensor)\n",
    "c[0,1,0]=1\n",
    "c[0,2,0]=1\n",
    "c[1,1,0]=1\n"
   ]
  },
  {
   "cell_type": "code",
   "execution_count": null,
   "metadata": {},
   "outputs": [],
   "source": [
    "b = torch.ones(64,3,32)\n",
    "mat = c.reshape(64,3)\n",
    "mat = torch.ones(64,3).type(torch.ByteTensor)-mat\n",
    "res=torch.zeros(64, 3,3)\n",
    "res.as_strided(mat.size(), [res.stride(0), res.size(2) + 1]).copy_(mat)\n",
    "res"
   ]
  },
  {
   "cell_type": "code",
   "execution_count": null,
   "metadata": {},
   "outputs": [],
   "source": [
    "torch.matmul(torch.ones(64,64,3),res)"
   ]
  },
  {
   "cell_type": "code",
   "execution_count": null,
   "metadata": {},
   "outputs": [],
   "source": [
    "c[0,1,0]=1\n",
    "c[0,3,0]=1\n",
    "c[1,2,0]=1"
   ]
  },
  {
   "cell_type": "code",
   "execution_count": null,
   "metadata": {},
   "outputs": [],
   "source": [
    "b=torch.ones(20,64,1)\n"
   ]
  },
  {
   "cell_type": "code",
   "execution_count": null,
   "metadata": {},
   "outputs": [],
   "source": [
    "c=c.transpose_(1,2)\n",
    "c=c.transpose_(0,1)\n",
    "b = b.transpose_(0,1)\n",
    "b=b.transpose_(0,2)\n",
    "#print(c)\n",
    "print(c.shape)\n",
    "print(b.shape)\n",
    "torch.matmul(c,b).shape"
   ]
  },
  {
   "cell_type": "code",
   "execution_count": null,
   "metadata": {},
   "outputs": [],
   "source": [
    "torch.matmul(c,b)"
   ]
  },
  {
   "cell_type": "code",
   "execution_count": null,
   "metadata": {},
   "outputs": [],
   "source": [
    "# w = torch.nn.Embedding(1,32)\n",
    "# w.weight.data = w.weight.data.normal_(0,\n",
    "#             0.01)\n",
    "w = torch.nn.Parameter(torch.Tensor(1,32))\n",
    "torch.nn.init.normal_(w,0,0.01)\n",
    "f = torch.zeros(64,20,1)\n",
    "f[0,1,0]=1\n",
    "f[0,2,0]=1\n",
    "f[1,2,0]=1\n",
    "mu = torch.nn.Linear(32,1,1)\n",
    "print(w)\n",
    "print(torch.matmul(f,w).shape)\n",
    "print(torch.matmul(f,w)[0,:,:])"
   ]
  },
  {
   "cell_type": "code",
   "execution_count": null,
   "metadata": {},
   "outputs": [],
   "source": [
    "mu.weight"
   ]
  },
  {
   "cell_type": "code",
   "execution_count": null,
   "metadata": {},
   "outputs": [],
   "source": [
    "adj = torch.zeros(1,3,3)\n",
    "adj[0,1,0]=1\n",
    "adj[0,0,1]=1\n",
    "mu = torch.ones(64,3,32)\n",
    "print(torch.matmul(adj,mu).shape)\n",
    "print(torch.matmul(adj,mu))\n",
    "u = torch.matmul(adj,mu)"
   ]
  },
  {
   "cell_type": "code",
   "execution_count": null,
   "metadata": {},
   "outputs": [],
   "source": [
    "mu_ =torch.nn.Linear(32,32)\n",
    "mu_.weight"
   ]
  },
  {
   "cell_type": "code",
   "execution_count": null,
   "metadata": {},
   "outputs": [],
   "source": [
    "par = torch.nn.Parameter(torch.Tensor(1,32,32))\n",
    "torch.nn.init.normal_(par,0,0.01)\n",
    "par"
   ]
  },
  {
   "cell_type": "code",
   "execution_count": null,
   "metadata": {},
   "outputs": [],
   "source": [
    "print(par[:,0])\n",
    "print(par[:,0].sum())\n",
    "u_ = u.transpose(1,2)\n",
    "print(torch.matmul(par,u_).shape)\n",
    "print(torch.matmul(par,u_))"
   ]
  },
  {
   "cell_type": "code",
   "execution_count": null,
   "metadata": {},
   "outputs": [],
   "source": []
  },
  {
   "cell_type": "code",
   "execution_count": null,
   "metadata": {},
   "outputs": [],
   "source": [
    "np.where(c[0,:,0]==np.max(c[0,:,0]))[0][0]"
   ]
  },
  {
   "cell_type": "code",
   "execution_count": null,
   "metadata": {},
   "outputs": [],
   "source": []
  },
  {
   "cell_type": "code",
   "execution_count": null,
   "metadata": {},
   "outputs": [],
   "source": [
    "ll_e6 = np.loadtxt('test.out')\n",
    "opt_set = np.loadtxt('opt_set.out')"
   ]
  },
  {
   "cell_type": "code",
   "execution_count": null,
   "metadata": {},
   "outputs": [],
   "source": [
    "cc=[]\n",
    "for i in range(len(ll_e6[-50000:])):\n",
    "    cc.append(np.mean(ll_e6[-50000+i:-49900+i]))"
   ]
  },
  {
   "cell_type": "code",
   "execution_count": null,
   "metadata": {},
   "outputs": [],
   "source": [
    "plt.plot(cc)\n",
    "plt.show"
   ]
  },
  {
   "cell_type": "code",
   "execution_count": null,
   "metadata": {},
   "outputs": [],
   "source": [
    "plt.plot(ll_e6)"
   ]
  },
  {
   "cell_type": "code",
   "execution_count": null,
   "metadata": {},
   "outputs": [],
   "source": [
    "c= torch.ones(64,20,20)\n",
    "b= torch.ones(64,20,20)\n",
    "torch.matmul(c,b).shape"
   ]
  },
  {
   "cell_type": "code",
   "execution_count": null,
   "metadata": {},
   "outputs": [],
   "source": [
    " ll=np.loadtxt('test_2.out')\n",
    "cc =[]\n",
    "for i in range(len(ll[-7000:])):\n",
    "    cc.append(np.mean(ll[-7000+i:-6900+i]))"
   ]
  },
  {
   "cell_type": "code",
   "execution_count": null,
   "metadata": {},
   "outputs": [],
   "source": [
    "plt.plot(cc)"
   ]
  },
  {
   "cell_type": "code",
   "execution_count": null,
   "metadata": {},
   "outputs": [],
   "source": [
    " ll=np.loadtxt('test_8.out')\n",
    "cc =[]\n",
    "for i in range(len(ll[-7000:])):\n",
    "    cc.append(np.mean(ll[-7000+i:-6900+i]))"
   ]
  },
  {
   "cell_type": "code",
   "execution_count": null,
   "metadata": {},
   "outputs": [],
   "source": [
    "plt.plot(cc)"
   ]
  },
  {
   "cell_type": "code",
   "execution_count": null,
   "metadata": {},
   "outputs": [],
   "source": [
    "ll=np.loadtxt('test_0.out')\n",
    "cc =[]\n",
    "for i in range(len(ll[-2500:])):\n",
    "    cc.append(np.mean(ll[-2500+i:-2400+i]))"
   ]
  },
  {
   "cell_type": "code",
   "execution_count": null,
   "metadata": {},
   "outputs": [],
   "source": [
    "plt.plot(cc)"
   ]
  },
  {
   "cell_type": "code",
   "execution_count": null,
   "metadata": {},
   "outputs": [],
   "source": [
    "ll_1=np.loadtxt('test_1.out')\n",
    "ll_2= np.loadtxt('test_2.out')\n",
    "ll_3= np.loadtxt('test_3.out')\n",
    "ll_7=np.loadtxt('test_9.out')\n",
    "#ll_all = np.concatenate([ll,ll_5])\n",
    "print(len(ll_7))\n",
    "cc =[]\n",
    "for i in range(len(ll_7[-24000:])):\n",
    "    cc.append(np.mean(ll_7[-24000+i:-23900+i]))"
   ]
  },
  {
   "cell_type": "code",
   "execution_count": null,
   "metadata": {},
   "outputs": [],
   "source": [
    "plt.plot(cc)"
   ]
  },
  {
   "cell_type": "code",
   "execution_count": null,
   "metadata": {},
   "outputs": [],
   "source": [
    "\n",
    "ll_7=np.loadtxt('test_6.out')\n",
    "#ll_all = np.concatenate([ll,ll_5])\n",
    "ll_7 =np.array(ll_7)/2\n",
    "print(len(ll_7))\n",
    "cc =[]\n",
    "for i in range(len(ll_7[-17000:])):\n",
    "    cc.append(np.mean(ll_7[-17000+i:-16000+i]))"
   ]
  },
  {
   "cell_type": "code",
   "execution_count": null,
   "metadata": {},
   "outputs": [],
   "source": [
    "plt.plot(cc)"
   ]
  },
  {
   "cell_type": "code",
   "execution_count": null,
   "metadata": {},
   "outputs": [],
   "source": [
    "model = np.memmap('model.bin')"
   ]
  },
  {
   "cell_type": "code",
   "execution_count": null,
   "metadata": {},
   "outputs": [],
   "source": [
    "model"
   ]
  },
  {
   "cell_type": "code",
   "execution_count": null,
   "metadata": {},
   "outputs": [],
   "source": [
    "import os"
   ]
  },
  {
   "cell_type": "code",
   "execution_count": null,
   "metadata": {},
   "outputs": [],
   "source": [
    "os.getcwd()"
   ]
  },
  {
   "cell_type": "code",
   "execution_count": null,
   "metadata": {},
   "outputs": [],
   "source": [
    "\n",
    "ll_7=np.loadtxt('test_6.out')\n",
    "#ll_all = np.concatenate([ll,ll_5])\n",
    "ll_7 =np.array(ll_7)\n",
    "print(len(ll_7))\n",
    "cc =[]\n",
    "for i in range(len(ll_7[-17000:])):\n",
    "    cc.append(np.mean(ll_7[-17000+i:-16000+i]))"
   ]
  },
  {
   "cell_type": "code",
   "execution_count": null,
   "metadata": {},
   "outputs": [],
   "source": [
    "plt.plot(cc)"
   ]
  },
  {
   "cell_type": "code",
   "execution_count": null,
   "metadata": {},
   "outputs": [],
   "source": [
    "weight=torch.load('model.pt')\n",
    "weight"
   ]
  },
  {
   "cell_type": "code",
   "execution_count": null,
   "metadata": {},
   "outputs": [],
   "source": [
    "X=weight['mu_2.weight'].detach().numpy()"
   ]
  },
  {
   "cell_type": "code",
   "execution_count": null,
   "metadata": {},
   "outputs": [],
   "source": [
    "import sklearn.manifold as mnf\n",
    "#pca = decomposition..(n_components=3)\n",
    "tsne=mnf.TSNE(n_components=3)\n",
    "result = tsne.fit_transform(X)"
   ]
  },
  {
   "cell_type": "code",
   "execution_count": null,
   "metadata": {},
   "outputs": [],
   "source": []
  },
  {
   "cell_type": "code",
   "execution_count": null,
   "metadata": {},
   "outputs": [],
   "source": [
    "\n",
    "plt.scatter(result[:, 0], result[:, 1],s=0.5*result[:,2],c=result[:,2])\n"
   ]
  },
  {
   "cell_type": "code",
   "execution_count": null,
   "metadata": {},
   "outputs": [],
   "source": [
    "seed=12\n",
    "g = nx.barabasi_albert_graph(n=20, m=4, seed=seed)\n",
    "nx.draw(g,with_labels=True)"
   ]
  },
  {
   "cell_type": "code",
   "execution_count": null,
   "metadata": {},
   "outputs": [],
   "source": [
    "seed=12\n",
    "from collections import Counter\n",
    "#g = nx.erdos_renyi_graph(n=2000, p=0.14, seed=seed)\n",
    "G = nx.barabasi_albert_graph(n=1000,m=4,seed=seed)\n",
    "degree_sequence = sorted([d for n, d in G.degree()], reverse=True)  # degree sequence\n",
    "degreeCount = Counter(degree_sequence)\n",
    "deg, cnt = zip(*degreeCount.items())"
   ]
  },
  {
   "cell_type": "code",
   "execution_count": null,
   "metadata": {},
   "outputs": [],
   "source": [
    "fig, ax = plt.subplots()\n",
    "plt.loglog(deg, [x/2000 for x in list(cnt)], 'b.')\n",
    "\n",
    "plt.title(\"Degree Distribution\")\n",
    "plt.ylabel(\"P(k)\")\n",
    "plt.xlabel(\"Degree\")\n",
    "#plt.xlim([-10,200])\n",
    "\n",
    "plt.show()"
   ]
  },
  {
   "cell_type": "code",
   "execution_count": null,
   "metadata": {},
   "outputs": [],
   "source": [
    "torch.matmul(torch.from_numpy(nx.adj_matrix(g).todense()).type(torch.FloatTensor),weight['mu_1.weight'])"
   ]
  },
  {
   "cell_type": "code",
   "execution_count": null,
   "metadata": {},
   "outputs": [],
   "source": [
    "pca = decomposition.PCA(n_components=4)\n",
    "\n",
    "result = pca.fit_transform(X)\n",
    "\n",
    "plt.scatter(result[:, 0], result[:, 1],s=3000*result[:,2],c=result[:,3])\n"
   ]
  },
  {
   "cell_type": "code",
   "execution_count": null,
   "metadata": {},
   "outputs": [],
   "source": [
    "number_node = 20\n",
    "g = nx.erdos_renyi_graph(n=number_node, p=0.12, seed=121)\n",
    "xv=torch.ones(1,number_nodes,1,dtype=torch.float)\n",
    "xv[1,]\n",
    "minibatch_size = xv.shape[0]\n",
    "nbr_node = xv.shape[1]\n",
    "for t in range(self.T):\n",
    "    if t == 0:\n",
    "        #mu = self.mu_1(xv).clamp(0)\n",
    "        mu = torch.matmul(xv, self.mu_1).clamp(0)\n",
    "        #mu.transpose_(1,2)\n",
    "        #mu_2 = self.mu_2(torch.matmul(adj, mu_init))\n",
    "        #mu = torch.add(mu_1, mu_2).clamp(0)\n",
    "    else:\n",
    "        #mu_1 = self.mu_1(xv)\n",
    "        mu_1 = torch.matmul(xv, self.mu_1).clamp(0)\n",
    "        #mu_1.transpose_(1,2)\n",
    "        # before pooling:\n",
    "        for i in range(self.len_pre_pooling):\n",
    "            mu = self.list_pre_pooling[i](mu).clamp(0)\n",
    "        mu_pool = torch.matmul(adj, mu)\n",
    "        # after pooling\n",
    "        for i in range(self.len_post_pooling):\n",
    "            mu_pool = self.list_post_pooling[i](mu_pool).clamp(0)\n",
    "        mu_2 = self.mu_2(mu_pool)\n",
    "        mu = torch.add(mu_1, mu_2).clamp(0)"
   ]
  },
  {
   "cell_type": "code",
   "execution_count": null,
   "metadata": {},
   "outputs": [],
   "source": [
    "\n",
    "ll_7=np.loadtxt('test_6_10_12_2_layer_opt.out')\n",
    "#ll_all = np.concatenate([ll,ll_5])\n",
    "ll_7 =np.array(ll_7)\n",
    "print(len(ll_7))\n",
    "cc =[]\n",
    "for i in range(len(ll_7[-17500:])):\n",
    "    cc.append(np.mean(ll_7[-17500+i:-17100+i]))"
   ]
  },
  {
   "cell_type": "code",
   "execution_count": null,
   "metadata": {},
   "outputs": [],
   "source": [
    "plt.plot(cc)"
   ]
  },
  {
   "cell_type": "code",
   "execution_count": null,
   "metadata": {},
   "outputs": [],
   "source": [
    "\n",
    "ll_7=np.loadtxt('test_1.out')\n",
    "#ll_all = np.concatenate([ll,ll_5])\n",
    "ll_7 =np.array(ll_7)\n",
    "print(len(ll_7))\n",
    "cc =[]\n",
    "for i in range(len(ll_7[-3400:])):a\n",
    "    cc.append(np.mean(ll_7[-3400+i:-3300+i]))"
   ]
  },
  {
   "cell_type": "code",
   "execution_count": null,
   "metadata": {},
   "outputs": [],
   "source": [
    "plt.plot(cc)"
   ]
  },
  {
   "cell_type": "code",
   "execution_count": 160,
   "metadata": {},
   "outputs": [
    {
     "name": "stdout",
     "output_type": "stream",
     "text": [
      "62500\n"
     ]
    },
    {
     "name": "stderr",
     "output_type": "stream",
     "text": [
      "/home/louis/.local/lib/python3.6/site-packages/numpy/core/fromnumeric.py:3118: RuntimeWarning: Mean of empty slice.\n",
      "  out=out, **kwargs)\n",
      "/home/louis/.local/lib/python3.6/site-packages/numpy/core/_methods.py:85: RuntimeWarning: invalid value encountered in double_scalars\n",
      "  ret = ret.dtype.type(ret / rcount)\n"
     ]
    }
   ],
   "source": [
    "\n",
    "ll_7=np.loadtxt('test_25.out')\n",
    "ll_8 = np.loadtxt('test_24.out')\n",
    "#ll_all = np.concatenate([ll,ll_5])\n",
    "ll_7 =np.array(ll_7)*-1\n",
    "ll_8 =np.array(ll_8)*-1\n",
    "print(len(ll_8))\n",
    "cc =[]\n",
    "cc_1=[]\n",
    "length=62500\n",
    "ll_7=ll_7[:length]\n",
    "for i in range(len(ll_8[-length:])):\n",
    "    cc.append(np.mean(ll_7[-length+i:-length+300+i]))\n",
    "    cc_1.append(np.mean(ll_8[-length+i:-length+300+i]))"
   ]
  },
  {
   "cell_type": "code",
   "execution_count": 161,
   "metadata": {},
   "outputs": [
    {
     "data": {
      "text/plain": [
       "<matplotlib.legend.Legend at 0x7fd607899f98>"
      ]
     },
     "execution_count": 161,
     "metadata": {},
     "output_type": "execute_result"
    },
    {
     "data": {
      "image/png": "[encoded data removed]",
      "text/plain": [
       "<matplotlib.figure.Figure at 0x7fd6078248d0>"
      ]
     },
     "metadata": {},
     "output_type": "display_data"
    }
   ],
   "source": [
    "plt.plot(cc_1,label=\"new\")\n",
    "plt.plot(cc,label=\"old\")\n",
    "plt.legend()"
   ]
  },
  {
   "cell_type": "code",
   "execution_count": null,
   "metadata": {},
   "outputs": [],
   "source": [
    "12/9"
   ]
  },
  {
   "cell_type": "code",
   "execution_count": null,
   "metadata": {},
   "outputs": [],
   "source": [
    "import pulp\n",
    "pulp.pulpTestAll()"
   ]
  },
  {
   "cell_type": "code",
   "execution_count": 141,
   "metadata": {},
   "outputs": [
    {
     "name": "stdout",
     "output_type": "stream",
     "text": [
      "2500\n",
      "665\n"
     ]
    },
    {
     "name": "stderr",
     "output_type": "stream",
     "text": [
      "/home/louis/.local/lib/python3.6/site-packages/numpy/core/fromnumeric.py:3118: RuntimeWarning: Mean of empty slice.\n",
      "  out=out, **kwargs)\n",
      "/home/louis/.local/lib/python3.6/site-packages/numpy/core/_methods.py:85: RuntimeWarning: invalid value encountered in double_scalars\n",
      "  ret = ret.dtype.type(ret / rcount)\n"
     ]
    }
   ],
   "source": [
    "\n",
    "ll_7=np.loadtxt('test_0.out')\n",
    "ll_8 = np.loadtxt('test_0_test_1_g_GCN_cp.out')\n",
    "ll_7 =np.array(ll_7)\n",
    "ll_8=np.array(ll_8)\n",
    "print(len(ll_7))\n",
    "print(len(ll_8))\n",
    "cc =[]\n",
    "cc_1=[]\n",
    "last =360\n",
    "for i in range(len(ll_7[-last:])):\n",
    "    cc.append(np.mean(ll_7[-last+i:-last+30+i]))\n",
    "    cc_1.append(np.mean(ll_8[-last+i:-last+30+i]))\n",
    "    "
   ]
  },
  {
   "cell_type": "code",
   "execution_count": 142,
   "metadata": {},
   "outputs": [
    {
     "data": {
      "text/plain": [
       "[<matplotlib.lines.Line2D at 0x7fd5a5be7208>]"
      ]
     },
     "execution_count": 142,
     "metadata": {},
     "output_type": "execute_result"
    },
    {
     "data": {
      "image/png": "[encoded data removed]",
      "text/plain": [
       "<matplotlib.figure.Figure at 0x7fd5a5af8470>"
      ]
     },
     "metadata": {},
     "output_type": "display_data"
    }
   ],
   "source": [
    "plt.plot(cc)\n",
    "plt.plot(cc_1)"
   ]
  },
  {
   "cell_type": "code",
   "execution_count": null,
   "metadata": {},
   "outputs": [],
   "source": [
    "0.99997**(3000*30)"
   ]
  },
  {
   "cell_type": "code",
   "execution_count": null,
   "metadata": {},
   "outputs": [],
   "source": [
    "0.999985**(16000*15)"
   ]
  },
  {
   "cell_type": "code",
   "execution_count": null,
   "metadata": {},
   "outputs": [],
   "source": [
    "0.999985**(700*5*8)"
   ]
  },
  {
   "cell_type": "code",
   "execution_count": null,
   "metadata": {},
   "outputs": [],
   "source": [
    "700*5*8"
   ]
  },
  {
   "cell_type": "code",
   "execution_count": null,
   "metadata": {},
   "outputs": [],
   "source": [
    "a=torch.ones((3,3))\n",
    "a[1,2]=0\n",
    "b=torch.ones((3,3))*2\n",
    "b[0,1]=0"
   ]
  },
  {
   "cell_type": "code",
   "execution_count": null,
   "metadata": {},
   "outputs": [],
   "source": [
    "torch.matmul(a,b)"
   ]
  },
  {
   "cell_type": "code",
   "execution_count": null,
   "metadata": {},
   "outputs": [],
   "source": [
    "print(a)\n",
    "print(b)"
   ]
  },
  {
   "cell_type": "code",
   "execution_count": 143,
   "metadata": {},
   "outputs": [
    {
     "name": "stdout",
     "output_type": "stream",
     "text": [
      "17500\n",
      "17500\n"
     ]
    },
    {
     "name": "stderr",
     "output_type": "stream",
     "text": [
      "/home/louis/.local/lib/python3.6/site-packages/numpy/core/fromnumeric.py:3118: RuntimeWarning: Mean of empty slice.\n",
      "  out=out, **kwargs)\n",
      "/home/louis/.local/lib/python3.6/site-packages/numpy/core/_methods.py:85: RuntimeWarning: invalid value encountered in double_scalars\n",
      "  ret = ret.dtype.type(ret / rcount)\n"
     ]
    }
   ],
   "source": [
    "\n",
    "ll_7=np.loadtxt('test_6_10_12_1layer_ed_opti.out')\n",
    "ll_8 = np.loadtxt('test_6_10_12_2_layer_opt.out')\n",
    "ll_7 =np.array(ll_7)\n",
    "ll_8=np.array(ll_8)\n",
    "print(len(ll_7))\n",
    "print(len(ll_8))\n",
    "cc =[]\n",
    "cc_1=[]\n",
    "last =17500\n",
    "for i in range(len(ll_7[-last:])):\n",
    "    cc.append(np.mean(ll_7[-last+i:-last+200+i]))\n",
    "    cc_1.append(np.mean(ll_8[-last+i:-last+200+i]))\n",
    "    "
   ]
  },
  {
   "cell_type": "code",
   "execution_count": 144,
   "metadata": {},
   "outputs": [
    {
     "data": {
      "text/plain": [
       "Text(0,0.5,'Approximation ratio')"
      ]
     },
     "execution_count": 144,
     "metadata": {},
     "output_type": "execute_result"
    },
    {
     "data": {
      "image/png": "[encoded data removed]",
      "text/plain": [
       "<matplotlib.figure.Figure at 0x7fd5a58a1ef0>"
      ]
     },
     "metadata": {},
     "output_type": "display_data"
    }
   ],
   "source": [
    "plt.plot(cc,label=\"2 layers\")\n",
    "plt.plot(cc_1, label=\"1 layers\")\n",
    "plt.legend()\n",
    "plt.xlabel('epochs')\n",
    "plt.ylabel('Approximation ratio')"
   ]
  },
  {
   "cell_type": "code",
   "execution_count": 145,
   "metadata": {},
   "outputs": [
    {
     "name": "stdout",
     "output_type": "stream",
     "text": [
      "17500\n",
      "17500\n"
     ]
    },
    {
     "name": "stderr",
     "output_type": "stream",
     "text": [
      "/home/louis/.local/lib/python3.6/site-packages/numpy/core/fromnumeric.py:3118: RuntimeWarning: Mean of empty slice.\n",
      "  out=out, **kwargs)\n",
      "/home/louis/.local/lib/python3.6/site-packages/numpy/core/_methods.py:85: RuntimeWarning: invalid value encountered in double_scalars\n",
      "  ret = ret.dtype.type(ret / rcount)\n"
     ]
    }
   ],
   "source": [
    "\n",
    "ll_7=np.loadtxt('test_6_10_10_corr.out')\n",
    "ll_8 = np.loadtxt('test_6_10_12_corr.out')\n",
    "ll_7 =np.array(ll_7)\n",
    "#ll_8=np.array(ll_8)*-1\n",
    "print(len(ll_7))\n",
    "#print(len(ll_8))\n",
    "cc =[]\n",
    "cc_1=[]\n",
    "last =17500\n",
    "for i in range(len(ll_7[-last:])):\n",
    "    cc.append(np.mean(ll_7[-last+i:-last+100+i]))\n",
    "    cc_1.append(np.mean(ll_8[-last+i:-last+200+i]))\n",
    "print(len(cc))"
   ]
  },
  {
   "cell_type": "code",
   "execution_count": 146,
   "metadata": {},
   "outputs": [
    {
     "data": {
      "text/plain": [
       "Text(0,0.5,'Approximation ratio')"
      ]
     },
     "execution_count": 146,
     "metadata": {},
     "output_type": "execute_result"
    },
    {
     "data": {
      "image/png": "[encoded data removed]",
      "text/plain": [
       "<matplotlib.figure.Figure at 0x7fd5a5bc9d68>"
      ]
     },
     "metadata": {},
     "output_type": "display_data"
    }
   ],
   "source": [
    "plt.plot(cc)\n",
    "#plt.plot(cc_1)\n",
    "plt.hlines(y=1,xmin=0,xmax=17500,linestyles='--',colors='r')\n",
    "plt.xlabel('epochs')\n",
    "plt.ylabel('Approximation ratio')\n",
    "#plt.plot(cc_1)"
   ]
  },
  {
   "cell_type": "code",
   "execution_count": null,
   "metadata": {},
   "outputs": [],
   "source": [
    "x = np.linspace(1,10000,10000)\n",
    "y = 0.02 +  (1- 0.02) * (8000 - x) / 8000\n",
    "            \n",
    "plt.plot(x,0.9997**x)\n",
    "plt.plot(x,y)"
   ]
  },
  {
   "cell_type": "code",
   "execution_count": null,
   "metadata": {},
   "outputs": [],
   "source": [
    "\n",
    "ll_7=np.loadtxt('test_6.out')\n",
    "ll_8 = np.loadtxt('test_6_10_18_mvc_eb_32b.out')\n",
    "#ll_all = np.concatenate([ll,ll_5])\n",
    "ll_7 =np.array(ll_7)\n",
    "ll_8=np.array(ll_8)\n",
    "print(len(ll_7))\n",
    "cc =[]\n",
    "cc_1=[]\n",
    "length=17500\n",
    "for i in range(len(ll_7[-length:])):\n",
    "    cc.append(np.mean(ll_7[-length+i:-length+200+i]))\n",
    "    cc_1.append(np.mean(ll_8[-length+i:-length+200+i]))"
   ]
  },
  {
   "cell_type": "code",
   "execution_count": null,
   "metadata": {},
   "outputs": [],
   "source": [
    "plt.plot(cc,label=\"10_18\")\n",
    "plt.plot(cc_1,label=\"10_12\")\n",
    "plt.legend()\n",
    "plt.show()"
   ]
  },
  {
   "cell_type": "code",
   "execution_count": null,
   "metadata": {},
   "outputs": [],
   "source": [
    "g=nx.erdos_renyi_graph(n=20,p=0.15,seed=125)\n",
    "pos=nx.spring_layout(g,weight=0.9,iterations=18)\n"
   ]
  },
  {
   "cell_type": "code",
   "execution_count": null,
   "metadata": {},
   "outputs": [],
   "source": [
    "edge_color=[]\n",
    "for u,v in g.edges():\n",
    "    if (u ==8) | (v==8):\n",
    "        edge_color.append('g')\n",
    "    else:\n",
    "        edge_color.append('powderblue')\n",
    "node_color=[]\n",
    "for u in g.nodes():\n",
    "    if (u ==8) | (u in list(g[8])):\n",
    "        node_color.append('g')\n",
    "    else:\n",
    "        node_color.append('powderblue')\n",
    "nx.draw(g,with_labels=True,seed=125,pos=pos,edge_color=edge_color,node_color=node_color,alpha=0.9)"
   ]
  },
  {
   "cell_type": "code",
   "execution_count": null,
   "metadata": {},
   "outputs": [],
   "source": [
    "edge_color=[]\n",
    "selec=[8,11,13,1,7,14,9]\n",
    "for u,v in g.edges():\n",
    "    if (u in selec) | (v in selec):\n",
    "        edge_color.append('g')\n",
    "    else:\n",
    "        edge_color.append('powderblue')\n",
    "node_color=[]\n",
    "for u in g.nodes():\n",
    "    adj=[]\n",
    "    for x in selec:\n",
    "        adj+=list(g[x])\n",
    "    \n",
    "    if (u in selec) | (u in list(set(adj))):\n",
    "        node_color.append('g')\n",
    "        if (u == selec[-1]) :\n",
    "            node_color[-1]='tomato'\n",
    "    else:\n",
    "        node_color.append('powderblue')\n",
    "nx.draw(g,with_labels=True,seed=125,pos=pos,edge_color=edge_color,node_color=node_color,alpha=0.9)"
   ]
  },
  {
   "cell_type": "code",
   "execution_count": null,
   "metadata": {},
   "outputs": [],
   "source": [
    "list(g.neighbors(8))"
   ]
  },
  {
   "cell_type": "code",
   "execution_count": 191,
   "metadata": {},
   "outputs": [
    {
     "data": {
      "text/plain": [
       "OrderedDict([('mu_1',\n",
       "              tensor([[-7.46363584767095744610e-05, -2.88207568228244781494e-02,\n",
       "                       -1.43299484625458717346e-02, -1.78874994162470102310e-04,\n",
       "                       -1.35060894535854458809e-04,  1.50067001581192016602e-01,\n",
       "                       -1.31417829543352127075e-02, -7.62089039199054241180e-04,\n",
       "                       -4.35645552352070808411e-03, -8.02402850240468978882e-03,\n",
       "                        2.56020367145538330078e-01,  2.68602430820465087891e-01,\n",
       "                        1.14749372005462646484e-01,  7.95751884579658508301e-02,\n",
       "                        7.51655623316764831543e-02, -9.86528117209672927856e-04,\n",
       "                       -2.19201687723398208618e-02, -5.10847149416804313660e-03,\n",
       "                       -6.43361476249992847443e-04, -5.34865027293562889099e-03,\n",
       "                       -3.49837297108024358749e-04, -9.43629909306764602661e-03,\n",
       "                       -4.36453614383935928345e-03, -5.39553631097078323364e-03,\n",
       "                        6.84046372771263122559e-02, -2.45720788370817899704e-04,\n",
       "                       -2.15195643249899148941e-04, -8.91807721927762031555e-04,\n",
       "                        1.55848085880279541016e-01, -5.19447552505880594254e-04,\n",
       "                        1.20645858347415924072e-01, -1.60787152708508074284e-04,\n",
       "                       -3.22735810186713933945e-04, -7.48340738937258720398e-04,\n",
       "                       -5.03357453271746635437e-03, -2.54620506893843412399e-04,\n",
       "                       -4.16183029301464557648e-04, -1.83255784213542938232e-02,\n",
       "                       -7.33759813010692596436e-03, -1.39171862974762916565e-02,\n",
       "                       -7.66499491874128580093e-04, -2.85763380816206336021e-04,\n",
       "                       -1.59677467308938503265e-04,  7.70087912678718566895e-02,\n",
       "                       -3.81416711024940013885e-03,  5.94820007681846618652e-02,\n",
       "                        2.57088452577590942383e-01, -2.76896986179053783417e-04,\n",
       "                       -3.08967049932107329369e-04, -1.68560910969972610474e-02,\n",
       "                       -5.54642814677208662033e-04, -1.05201918631792068481e-02,\n",
       "                       -1.24319540336728096008e-02, -3.06487572379410266876e-03,\n",
       "                       -1.27485543489456176758e-02,  3.27392607927322387695e-01,\n",
       "                       -1.68517362326383590698e-02,  2.04174324870109558105e-01,\n",
       "                       -4.61670482764020562172e-04, -5.70029136724770069122e-04,\n",
       "                       -1.54370826203376054764e-03, -2.13100551627576351166e-03,\n",
       "                       -2.16779150068759918213e-02, -1.99590274132788181305e-03]])),\n",
       "             ('mu_2.weight',\n",
       "              tensor([[ 0.01919250749051570892, -0.00743856839835643768,\n",
       "                        0.01170424371957778931,  ...,\n",
       "                        0.02145647443830966949, -0.05730842426419258118,\n",
       "                       -0.00659082271158695221],\n",
       "                      [-0.00286449631676077843, -0.04310121759772300720,\n",
       "                       -0.00970709417015314102,  ...,\n",
       "                        0.10265519469976425171, -0.00426300941035151482,\n",
       "                        0.00648255832493305206],\n",
       "                      [ 0.00364255439490079880,  0.03725228458642959595,\n",
       "                        0.02772746235132217407,  ...,\n",
       "                        0.02222595177590847015, -0.03689434006810188293,\n",
       "                       -0.00490419892594218254],\n",
       "                      ...,\n",
       "                      [ 0.06494849920272827148,  0.09682570397853851318,\n",
       "                        0.03972087055444717407,  ...,\n",
       "                       -0.05195518583059310913, -0.03238763287663459778,\n",
       "                       -0.00153492123354226351],\n",
       "                      [ 0.05831872671842575073,  0.04467015340924263000,\n",
       "                        0.04018791392445564270,  ...,\n",
       "                        0.05132407695055007935,  0.04972014948725700378,\n",
       "                       -0.00406136037781834602],\n",
       "                      [-0.00285953050479292870, -0.00272449897602200508,\n",
       "                       -0.01330862287431955338,  ...,\n",
       "                       -0.01321842521429061890, -0.01249500736594200134,\n",
       "                       -0.00153118441812694073]])),\n",
       "             ('mu_2.bias',\n",
       "              tensor([ 2.15821236371994018555e-01,  2.76325464248657226562e-01,\n",
       "                       2.69600301980972290039e-01,  9.50097218155860900879e-02,\n",
       "                       1.73235356807708740234e-01,  6.95372605696320533752e-03,\n",
       "                      -1.27347335219383239746e-01,  1.85901881195604801178e-03,\n",
       "                      -1.36856898665428161621e-01,  8.76282453536987304688e-02,\n",
       "                       6.41645565629005432129e-02,  6.42534941434860229492e-02,\n",
       "                      -2.52728117629885673523e-04, -1.25747606158256530762e-01,\n",
       "                       1.53299430385231971741e-02, -4.19204160571098327637e-02,\n",
       "                      -1.17360554635524749756e-01, -5.52281439304351806641e-02,\n",
       "                      -1.06989234685897827148e-01, -7.18816462904214859009e-03,\n",
       "                       2.38957792520523071289e-01, -1.12125180661678314209e-01,\n",
       "                       2.28785678744316101074e-01,  1.29583060741424560547e-01,\n",
       "                       1.30992546677589416504e-01,  2.18247503042221069336e-01,\n",
       "                       2.74840086698532104492e-01, -4.62005622684955596924e-02,\n",
       "                       1.27752497792243957520e-01,  3.16014200448989868164e-01,\n",
       "                       6.68781064450740814209e-03,  1.80028751492500305176e-01,\n",
       "                       2.23752155900001525879e-01,  6.85659656301140785217e-03,\n",
       "                      -9.02990102767944335938e-02,  1.38529047369956970215e-01,\n",
       "                      -7.40737617015838623047e-02,  1.67001545429229736328e-01,\n",
       "                       1.33696049451828002930e-01, -8.99125412106513977051e-02,\n",
       "                       2.10269331932067871094e-01,  6.97441548109054565430e-02,\n",
       "                      -1.38475019484758377075e-02, -1.05220504105091094971e-01,\n",
       "                       1.36453106999397277832e-01, -1.14547088742256164551e-01,\n",
       "                      -1.30079023074358701706e-03,  7.55468904972076416016e-02,\n",
       "                      -1.12426452338695526123e-01, -4.01154942810535430908e-02,\n",
       "                       1.45222797989845275879e-01, -8.31737071275711059570e-02,\n",
       "                      -9.30072888731956481934e-02, -1.08330734074115753174e-01,\n",
       "                      -1.63225501775741577148e-01, -1.17822639644145965576e-01,\n",
       "                      -1.77773088216781616211e-01, -3.50263118743896484375e-02,\n",
       "                       1.25003114342689514160e-01, -9.48956459760665893555e-02,\n",
       "                      -9.02957469224929809570e-03,  4.71471957862377166748e-02,\n",
       "                      -1.83239176869392395020e-01, -8.47043022513389587402e-02])),\n",
       "             ('q_1.weight',\n",
       "              tensor([[ 0.01907625421881675720, -0.14819288253784179688,\n",
       "                       -0.06533383578062057495,  ...,\n",
       "                       -0.04360915720462799072, -0.04729807749390602112,\n",
       "                       -0.01710219867527484894],\n",
       "                      [ 0.03362327814102172852, -0.17977651953697204590,\n",
       "                       -0.05278825759887695312,  ...,\n",
       "                       -0.02302620001137256622, -0.03692341595888137817,\n",
       "                       -0.00767244864255189896],\n",
       "                      [ 0.14937663078308105469,  0.11150951683521270752,\n",
       "                        0.14024917781352996826,  ...,\n",
       "                       -0.05165785178542137146, -0.03481115400791168213,\n",
       "                        0.00932670105248689651],\n",
       "                      ...,\n",
       "                      [ 0.07066457718610763550, -0.15231230854988098145,\n",
       "                       -0.06482891738414764404,  ...,\n",
       "                       -0.01392399240285158157, -0.04597418010234832764,\n",
       "                        0.00468162633478641510],\n",
       "                      [-0.10842418670654296875, -0.04431866481900215149,\n",
       "                       -0.11058894544839859009,  ...,\n",
       "                        0.02600791491568088531,  0.02107024565339088440,\n",
       "                       -0.00167766422964632511],\n",
       "                      [ 0.04371648654341697693, -0.15126027166843414307,\n",
       "                       -0.01802157610654830933,  ...,\n",
       "                        0.01275364961475133896, -0.05661533400416374207,\n",
       "                       -0.00206251698546111584]])),\n",
       "             ('q_1.bias',\n",
       "              tensor([ 0.31513187289237976074,  0.34037193655967712402,\n",
       "                      -0.49962246417999267578, -0.63909268379211425781,\n",
       "                      -0.59223353862762451172,  0.62083172798156738281,\n",
       "                       0.14877748489379882812,  0.14088860154151916504,\n",
       "                       0.60184448957443237305, -0.09968351572751998901,\n",
       "                       0.57020080089569091797,  0.13027994334697723389,\n",
       "                      -0.17313545942306518555, -0.59453839063644409180,\n",
       "                      -0.65715831518173217773, -0.57168459892272949219,\n",
       "                      -0.58682805299758911133,  0.32283544540405273438,\n",
       "                       0.20389968156814575195,  0.46910205483436584473,\n",
       "                      -0.17013481259346008301,  0.24106709659099578857,\n",
       "                      -0.60289365053176879883, -0.57672405242919921875,\n",
       "                      -0.63706856966018676758,  0.62362259626388549805,\n",
       "                      -0.01753732189536094666,  0.23301506042480468750,\n",
       "                      -0.66069853305816650391,  0.17185920476913452148,\n",
       "                       0.59087866544723510742, -0.60845690965652465820,\n",
       "                      -0.62301677465438842773, -0.41542574763298034668,\n",
       "                       0.22847726941108703613, -0.66701221466064453125,\n",
       "                      -0.68914020061492919922,  0.26024684309959411621,\n",
       "                       0.24514994025230407715,  0.13586200773715972900,\n",
       "                      -0.04900639504194259644, -0.54301279783248901367,\n",
       "                       0.62061172723770141602, -0.55589479207992553711,\n",
       "                      -0.42775067687034606934, -0.23041035234928131104,\n",
       "                      -0.66163784265518188477,  0.11436337977647781372,\n",
       "                      -0.59898632764816284180, -0.60934513807296752930,\n",
       "                      -0.49758943915367126465,  0.64688348770141601562,\n",
       "                       0.45195361971855163574,  0.58694422245025634766,\n",
       "                       0.52647453546524047852, -0.30722340941429138184,\n",
       "                       0.64686393737792968750,  0.64587289094924926758,\n",
       "                       0.12280534207820892334, -0.63446605205535888672,\n",
       "                       0.64786577224731445312,  0.15599112212657928467,\n",
       "                       0.63996344804763793945,  0.02725207805633544922])),\n",
       "             ('q_2.weight',\n",
       "              tensor([[-0.17143458127975463867, -0.20938548445701599121,\n",
       "                       -0.30582413077354431152,  ...,\n",
       "                       -0.15077272057533264160, -0.05260279029607772827,\n",
       "                        0.00182760681491345167],\n",
       "                      [-0.14647392928600311279, -0.04203464090824127197,\n",
       "                       -0.01571985892951488495,  ...,\n",
       "                        0.16484300792217254639,  0.04264353215694427490,\n",
       "                       -0.00300984969362616539],\n",
       "                      [ 0.11326012760400772095,  0.01119642797857522964,\n",
       "                       -0.03049809485673904419,  ...,\n",
       "                       -0.17303344607353210449, -0.03743748366832733154,\n",
       "                       -0.00643225759267807007],\n",
       "                      ...,\n",
       "                      [ 0.22677856683731079102,  0.24999722838401794434,\n",
       "                        0.30871516466140747070,  ...,\n",
       "                        0.01963280886411666870, -0.07740487903356552124,\n",
       "                       -0.00554291345179080963],\n",
       "                      [-0.12811435759067535400, -0.23668853938579559326,\n",
       "                       -0.29561311006546020508,  ...,\n",
       "                       -0.08343639969825744629, -0.00530272955074906349,\n",
       "                       -0.01331562362611293793],\n",
       "                      [ 0.18952895700931549072,  0.23327800631523132324,\n",
       "                        0.23010191321372985840,  ...,\n",
       "                        0.09082236140966415405,  0.00587768433615565300,\n",
       "                       -0.00439401902258396149]])),\n",
       "             ('q_2.bias',\n",
       "              tensor([-0.42913445830345153809, -0.29210573434829711914,\n",
       "                       0.24086363613605499268, -0.48056316375732421875,\n",
       "                      -0.49751457571983337402, -0.23668824136257171631,\n",
       "                      -0.09704951941967010498, -0.25798988342285156250,\n",
       "                       0.00986351445317268372, -0.45823755860328674316,\n",
       "                       0.15289388597011566162,  0.06840838491916656494,\n",
       "                       0.41143012046813964844,  0.15726397931575775146,\n",
       "                      -0.26746350526809692383, -0.34622761607170104980,\n",
       "                      -0.34817099571228027344,  0.39938557147979736328,\n",
       "                      -0.54718285799026489258, -0.48110598325729370117,\n",
       "                       0.36726954579353332520, -0.37624204158782958984,\n",
       "                       0.43272313475608825684,  0.47365811467170715332,\n",
       "                       0.34769451618194580078, -0.24893213808536529541,\n",
       "                       0.25578108429908752441,  0.37559401988983154297,\n",
       "                      -0.44441691040992736816,  0.42602732777595520020,\n",
       "                      -0.35229954123497009277, -0.30052441358566284180,\n",
       "                       0.44844889640808105469, -0.45592284202575683594,\n",
       "                       0.38168036937713623047,  0.39469540119171142578,\n",
       "                       0.49346086382865905762, -0.43789616227149963379,\n",
       "                       0.23374591767787933350, -0.33368638157844543457,\n",
       "                       0.10874403268098831177, -0.47326111793518066406,\n",
       "                       0.28158572316169738770, -0.29345896840095520020,\n",
       "                       0.47436136007308959961,  0.39059090614318847656,\n",
       "                       0.24504989385604858398,  0.41638588905334472656,\n",
       "                      -0.01265550218522548676,  0.46489167213439941406,\n",
       "                       0.50177705287933349609,  0.22165714204311370850,\n",
       "                       0.41055616736412048340,  0.23154525458812713623,\n",
       "                      -0.49388349056243896484, -0.38263025879859924316,\n",
       "                       0.51358550786972045898,  0.40729704499244689941,\n",
       "                      -0.28168204426765441895, -0.41590231657028198242,\n",
       "                       0.54150414466857910156,  0.48533433675765991211,\n",
       "                      -0.43994846940040588379,  0.39066976308822631836])),\n",
       "             ('q_reg.weight',\n",
       "              tensor([[ 0.29343509674072265625,  0.23438034951686859131,\n",
       "                       -0.10658670961856842041,  ...,\n",
       "                        0.17768195271492004395, -0.17067161202430725098,\n",
       "                        0.14205144345760345459],\n",
       "                      [ 0.28444156050682067871,  0.18652513623237609863,\n",
       "                       -0.07633266597986221313,  ...,\n",
       "                        0.06680246442556381226, -0.10947669297456741333,\n",
       "                        0.11387112736701965332],\n",
       "                      [ 0.00394432619214057922,  0.01405723951756954193,\n",
       "                       -0.07124765962362289429,  ...,\n",
       "                        0.22162029147148132324, -0.14771781861782073975,\n",
       "                        0.06283429265022277832],\n",
       "                      ...,\n",
       "                      [ 0.08447336405515670776,  0.09875142574310302734,\n",
       "                        0.04668164998292922974,  ...,\n",
       "                       -0.06810353696346282959,  0.01377623714506626129,\n",
       "                       -0.00589472893625497818],\n",
       "                      [ 0.22004483640193939209,  0.15757453441619873047,\n",
       "                       -0.06772009283304214478,  ...,\n",
       "                       -0.02933332696557044983, -0.02960234135389328003,\n",
       "                        0.05545537173748016357],\n",
       "                      [ 0.10239809006452560425,  0.10613515228033065796,\n",
       "                        0.03582596406340599060,  ...,\n",
       "                       -0.07670947909355163574,  0.00431160535663366318,\n",
       "                        0.01594919338822364807]])),\n",
       "             ('q_reg.bias',\n",
       "              tensor([-0.05600595846772193909,  0.21150891482830047607,\n",
       "                       0.25969967246055603027, -0.11237756162881851196,\n",
       "                      -0.11904291063547134399, -0.08367940783500671387,\n",
       "                      -0.23108448088169097900, -0.13379609584808349609,\n",
       "                       0.26084962487220764160, -0.01935308054089546204,\n",
       "                      -0.08422924578189849854, -0.12857204675674438477,\n",
       "                      -0.03989079967141151428,  0.24522614479064941406,\n",
       "                       0.05429090186953544617, -0.03648038581013679504,\n",
       "                       0.04757794365286827087,  0.03505053371191024780,\n",
       "                      -0.07894615828990936279, -0.17328527569770812988,\n",
       "                      -0.03629779443144798279, -0.16032828390598297119,\n",
       "                      -0.03148248419165611267, -0.04337504506111145020,\n",
       "                      -0.04683740809559822083,  0.11188229918479919434,\n",
       "                      -0.14133819937705993652, -0.14206863939762115479,\n",
       "                      -0.07491562515497207642, -0.07621694356203079224,\n",
       "                      -0.16633196175098419189,  0.20706221461296081543,\n",
       "                       0.18299101293087005615,  0.25949913263320922852,\n",
       "                      -0.02687605284154415131, -0.11309369653463363647,\n",
       "                       0.26480183005332946777, -0.04552716389298439026,\n",
       "                      -0.14392730593681335449, -0.11251004785299301147,\n",
       "                      -0.13021972775459289551, -0.01607946492731571198,\n",
       "                      -0.14792983233928680420, -0.15646597743034362793,\n",
       "                       0.01548870652914047241, -0.04181126132607460022,\n",
       "                      -0.24645408987998962402, -0.10891279578208923340,\n",
       "                      -0.09669259190559387207, -0.06523882597684860229,\n",
       "                      -0.08451221138238906860, -0.22282303869724273682,\n",
       "                       0.22914069890975952148,  0.29285219311714172363,\n",
       "                      -0.03968716785311698914, -0.06964844465255737305,\n",
       "                       0.22749496996402740479, -0.02377378754317760468,\n",
       "                      -0.06062229722738265991, -0.21629539132118225098,\n",
       "                       0.16431733965873718262, -0.10562910884618759155,\n",
       "                      -0.09694904834032058716, -0.10909406095743179321])),\n",
       "             ('q.weight',\n",
       "              tensor([[ 4.29625809192657470703e-01, -3.54694962501525878906e-01,\n",
       "                       -3.63009631633758544922e-01,  2.31491282582283020020e-01,\n",
       "                        1.77989616990089416504e-01,  1.40114582609385251999e-03,\n",
       "                        3.38398575782775878906e-01,  7.06316381692886352539e-02,\n",
       "                       -3.23130726814270019531e-01, -4.81359779834747314453e-01,\n",
       "                       -3.87213774956762790680e-03,  2.13391035795211791992e-02,\n",
       "                       -2.24591404199600219727e-01,  4.02802735567092895508e-01,\n",
       "                       -2.23670139908790588379e-01, -2.73509919643402099609e-01,\n",
       "                        6.01801156997680664062e-01, -2.62823313474655151367e-01,\n",
       "                       -1.57630853354930877686e-02,  4.62699905037879943848e-02,\n",
       "                        4.97109055519104003906e-01,  1.86926610767841339111e-02,\n",
       "                       -3.82876783609390258789e-01,  3.50766032934188842773e-01,\n",
       "                        2.61476426385343074799e-03, -4.15652304887771606445e-01,\n",
       "                       -2.53691345453262329102e-01,  1.31748333573341369629e-01,\n",
       "                       -6.33153365924954414368e-04,  2.16551963239908218384e-03,\n",
       "                        1.53049174696207046509e-02, -3.21493536233901977539e-01,\n",
       "                       -1.07136130332946777344e-01, -3.02400082349777221680e-01,\n",
       "                        2.20658406615257263184e-02,  1.29601061344146728516e-01,\n",
       "                       -3.21131229400634765625e-01, -1.03538902476429939270e-02,\n",
       "                        3.40067818760871887207e-02,  1.82997360825538635254e-01,\n",
       "                        4.70927178859710693359e-01, -1.72765634488314390182e-03,\n",
       "                        4.73253399133682250977e-01,  7.43588879704475402832e-02,\n",
       "                        3.80810886621475219727e-01, -4.25065487623214721680e-01,\n",
       "                       -7.01345562934875488281e-01,  1.27029120922088623047e-01,\n",
       "                        6.26414269208908081055e-02,  2.95511722564697265625e-01,\n",
       "                        1.65853369981050491333e-02, -6.85358405113220214844e-01,\n",
       "                       -3.14886510372161865234e-01, -3.14391553401947021484e-01,\n",
       "                        3.29933525063097476959e-03, -1.50459725409746170044e-03,\n",
       "                       -3.47319245338439941406e-01, -2.84185609780251979828e-03,\n",
       "                       -3.76772314310073852539e-01,  6.11413896083831787109e-01,\n",
       "                       -3.83178472518920898438e-01,  3.38629893958568572998e-02,\n",
       "                        2.78931856155395507812e-01,  6.58054575324058532715e-02]])),\n",
       "             ('q.bias', tensor([0.34249410033226013184]))])"
      ]
     },
     "execution_count": 191,
     "metadata": {},
     "output_type": "execute_result"
    }
   ],
   "source": [
    "#weight=torch.load('model_mvc_10_14.pt')\n",
    "weight=torch.load('model.pt')\n",
    "weight"
   ]
  },
  {
   "cell_type": "code",
   "execution_count": 442,
   "metadata": {},
   "outputs": [],
   "source": [
    "\n",
    "class S2V_QN_1(torch.nn.Module):\n",
    "    def __init__(self,reg_hidden, embed_dim, len_pre_pooling, len_post_pooling, T):\n",
    "\n",
    "        super(S2V_QN_1, self).__init__()\n",
    "        self.T = T\n",
    "        self.embed_dim=embed_dim\n",
    "        self.reg_hidden=reg_hidden\n",
    "        self.mu= torch.zeros(embed_dim,embed_dim)\n",
    "        #self.len_pre_pooling = len_pre_pooling\n",
    "        #self.len_post_pooling = len_post_pooling\n",
    "        #self.mu_1 = torch.nn.Linear(1, embed_dim)\n",
    "        #torch.nn.init.normal_(self.mu_1.weight,mean=0,std=0.01)\n",
    "        self.mu_1 = torch.nn.Parameter(torch.Tensor(1, embed_dim))\n",
    "        self.mu_1=torch.nn.Parameter(weight['mu_1'])\n",
    "        #torch.nn.init.normal_(self.mu_1, mean=0, std=0.01)\n",
    "        self.mu_2 = torch.nn.Linear(embed_dim, embed_dim,True)\n",
    "        self.mu_2.weight=torch.nn.Parameter(weight['mu_2.weight'])\n",
    "        self.mu_2.biais=torch.nn.Parameter(weight['mu_2.bias'])\n",
    "        #torch.nn.init.normal_(self.mu_2.weight, mean=0, std=0.01)\n",
    "        \n",
    "        self.q_1 = torch.nn.Linear(embed_dim, embed_dim,bias=True)\n",
    "        self.q_1.weight=torch.nn.Parameter(weight['q_1.weight'])\n",
    "        self.q_1.biais=torch.nn.Parameter(weight['q_1.bias'])\n",
    "        #torch.nn.init.normal_(self.q_1.weight, mean=0, std=0.01)\n",
    "        self.q_2 = torch.nn.Linear(embed_dim, embed_dim,bias=True)\n",
    "        self.q_2.weight=torch.nn.Parameter(weight['q_2.weight'])\n",
    "        self.q_2.biais=torch.nn.Parameter(weight['q_2.bias'])\n",
    "                        \n",
    "        #torch.nn.init.normal_(self.q_2.weight, mean=0, std=0.01)\n",
    "        if self.reg_hidden > 0:\n",
    "            self.q_reg = torch.nn.Linear(2 * embed_dim, self.reg_hidden)\n",
    "            self.q_reg.weight=torch.nn.Parameter(weight['q_reg.weight'])\n",
    "            self.q_reg.biais=torch.nn.Parameter(weight['q_reg.bias'])\n",
    "            #torch.nn.init.normal_(self.q_reg.weight, mean=0, std=0.01)\n",
    "            self.q = torch.nn.Linear(self.reg_hidden, 1)\n",
    "            self.q.weight=torch.nn.Parameter(weight['q.weight'])\n",
    "            self.q.biais=torch.nn.Parameter(weight['q.bias'])\n",
    "        else:\n",
    "            self.q = torch.nn.Linear(2 * embed_dim, 1)\n",
    "            self.q.weight=torch.nn.Parameter(weight['q.weight'])\n",
    "            self.q.biais=torch.nn.Parameter(weight['q.bias'])\n",
    "        #torch.nn.init.normal_(self.q.weight, mean=0, std=0.01)\n",
    "\n",
    "    def forward(self, xv, adj):\n",
    "\n",
    "        minibatch_size = xv.shape[0]\n",
    "        nbr_node = xv.shape[1]\n",
    "\n",
    "\n",
    "        for t in range(self.T):\n",
    "            if t == 0:\n",
    "                #mu = self.mu_1(xv).clamp(0)\n",
    "                self.mu = torch.matmul(xv, self.mu_1).clamp(0)\n",
    "                #mu.transpose_(1,2)\n",
    "                #mu_2 = self.mu_2(torch.matmul(adj, mu_init))\n",
    "                #mu = torch.add(mu_1, mu_2).clamp(0)\n",
    "\n",
    "            else:\n",
    "                #mu_1 = self.mu_1(xv).clamp(0)\n",
    "                mu_1 = torch.matmul(xv, self.mu_1).clamp(0)\n",
    "                #mu_1.transpose_(1,2)\n",
    "                # before pooling:\n",
    "                #for i in range(self.len_pre_pooling):\n",
    "                #    mu = self.list_pre_pooling[i](mu).clamp(0)\n",
    "\n",
    "                mu_pool = torch.matmul(adj, self.mu)\n",
    "\n",
    "                # after pooling\n",
    "                #for i in range(self.len_post_pooling):\n",
    "                #    mu_pool = self.list_post_pooling[i](mu_pool).clamp(0)\n",
    "\n",
    "                mu_2 = self.mu_2(mu_pool)\n",
    "                self.mu = torch.add(mu_1, mu_2).clamp(0)\n",
    "\n",
    "        q_1 = self.q_1(torch.matmul(xv.transpose(1,2),self.mu)).expand(minibatch_size,nbr_node,self.embed_dim)\n",
    "        q_2 = self.q_2(self.mu)\n",
    "        q_ = torch.cat((q_1, q_2), dim=-1)\n",
    "        if self.reg_hidden > 0:\n",
    "            q_reg = self.q_reg(q_).clamp(0)\n",
    "            q = self.q(q_reg)\n",
    "        else:\n",
    "            q_=q_.clamp(0)\n",
    "            q = self.q(q_)\n",
    "        return q\n",
    "    \n",
    "model = S2V_QN_1(reg_hidden=64,embed_dim=64,len_pre_pooling=0,len_post_pooling=0,T=5)"
   ]
  },
  {
   "cell_type": "code",
   "execution_count": 443,
   "metadata": {},
   "outputs": [
    {
     "data": {
      "text/plain": [
       "tensor([[0., 0., 0.,  ..., 0., 0., 0.],\n",
       "        [0., 0., 0.,  ..., 0., 0., 0.],\n",
       "        [0., 0., 0.,  ..., 0., 0., 0.],\n",
       "        ...,\n",
       "        [0., 0., 0.,  ..., 0., 0., 0.],\n",
       "        [0., 0., 0.,  ..., 0., 0., 0.],\n",
       "        [0., 0., 0.,  ..., 0., 0., 0.]])"
      ]
     },
     "execution_count": 443,
     "metadata": {},
     "output_type": "execute_result"
    }
   ],
   "source": [
    "model.mu"
   ]
  },
  {
   "cell_type": "code",
   "execution_count": 481,
   "metadata": {},
   "outputs": [
    {
     "data": {
      "text/plain": [
       "tensor([[[14.28131580352783203125],\n",
       "         [24.05461502075195312500],\n",
       "         [ 7.43200540542602539062],\n",
       "         [15.15580844879150390625],\n",
       "         [ 9.18322181701660156250],\n",
       "         [13.10358333587646484375],\n",
       "         [17.40460205078125000000],\n",
       "         [12.19045543670654296875],\n",
       "         [23.82216644287109375000],\n",
       "         [ 7.05704593658447265625],\n",
       "         [17.25232696533203125000],\n",
       "         [20.00258636474609375000],\n",
       "         [18.79585075378417968750],\n",
       "         [21.22477340698242187500],\n",
       "         [14.41637134552001953125],\n",
       "         [15.75590419769287109375],\n",
       "         [17.75372886657714843750],\n",
       "         [ 8.76658630371093750000],\n",
       "         [10.27936077117919921875],\n",
       "         [15.49850082397460937500],\n",
       "         [ 9.20280742645263671875],\n",
       "         [14.18077754974365234375],\n",
       "         [10.15601634979248046875],\n",
       "         [16.25111961364746093750],\n",
       "         [ 3.78031039237976074219],\n",
       "         [ 9.38233947753906250000],\n",
       "         [ 9.47266864776611328125],\n",
       "         [21.51583671569824218750],\n",
       "         [13.81126785278320312500],\n",
       "         [21.34796714782714843750],\n",
       "         [ 8.38886070251464843750],\n",
       "         [ 9.28605175018310546875],\n",
       "         [11.94101333618164062500],\n",
       "         [24.14321899414062500000],\n",
       "         [20.10706710815429687500],\n",
       "         [10.38769721984863281250],\n",
       "         [-0.12374646961688995361],\n",
       "         [17.87675094604492187500],\n",
       "         [ 8.52323818206787109375],\n",
       "         [16.19012641906738281250],\n",
       "         [23.97930908203125000000],\n",
       "         [14.72665882110595703125],\n",
       "         [ 8.32018566131591796875],\n",
       "         [14.10322952270507812500],\n",
       "         [14.91409206390380859375],\n",
       "         [11.73676395416259765625],\n",
       "         [19.24315834045410156250],\n",
       "         [16.26405143737792968750],\n",
       "         [26.71212005615234375000],\n",
       "         [22.36525344848632812500]]], grad_fn=<AddBackward0>)"
      ]
     },
     "execution_count": 481,
     "metadata": {},
     "output_type": "execute_result"
    }
   ],
   "source": [
    "node=50\n",
    "g=nx.erdos_renyi_graph(p=0.15,n=node,seed=np.random.seed(627))\n",
    "xv=torch.zeros(1, node, 1, dtype=torch.float)\n",
    "#xv[:,9,:]=1\n",
    "#xv[:,8,:]=1\n",
    "adj =nx.adj_matrix(g)\n",
    "adj = adj.todense()\n",
    "adj = torch.from_numpy(np.expand_dims(adj.astype(int), axis=0))\n",
    "adj = adj.type(torch.FloatTensor)\n",
    "\n",
    "q=model(xv,adj)\n",
    "q"
   ]
  },
  {
   "cell_type": "code",
   "execution_count": 482,
   "metadata": {},
   "outputs": [],
   "source": [
    "\n",
    "\n",
    "torch.set_printoptions(precision=20)"
   ]
  },
  {
   "cell_type": "code",
   "execution_count": 483,
   "metadata": {},
   "outputs": [
    {
     "data": {
      "text/plain": [
       "tensor([[[0.],\n",
       "         [0.],\n",
       "         [1.],\n",
       "         [0.],\n",
       "         [0.],\n",
       "         [0.],\n",
       "         [0.],\n",
       "         [0.],\n",
       "         [0.],\n",
       "         [0.],\n",
       "         [0.],\n",
       "         [0.],\n",
       "         [0.],\n",
       "         [0.],\n",
       "         [0.],\n",
       "         [0.],\n",
       "         [0.],\n",
       "         [0.],\n",
       "         [0.],\n",
       "         [0.],\n",
       "         [0.],\n",
       "         [0.],\n",
       "         [0.],\n",
       "         [0.],\n",
       "         [0.],\n",
       "         [0.],\n",
       "         [0.],\n",
       "         [0.],\n",
       "         [0.],\n",
       "         [0.],\n",
       "         [0.],\n",
       "         [0.],\n",
       "         [0.],\n",
       "         [0.],\n",
       "         [0.],\n",
       "         [0.],\n",
       "         [0.],\n",
       "         [0.],\n",
       "         [0.],\n",
       "         [0.],\n",
       "         [0.],\n",
       "         [0.],\n",
       "         [0.],\n",
       "         [0.],\n",
       "         [0.],\n",
       "         [0.],\n",
       "         [0.],\n",
       "         [0.],\n",
       "         [0.],\n",
       "         [0.]]])"
      ]
     },
     "execution_count": 483,
     "metadata": {},
     "output_type": "execute_result"
    }
   ],
   "source": [
    "xv[:,2,:]=1\n",
    "xv"
   ]
  },
  {
   "cell_type": "code",
   "execution_count": 484,
   "metadata": {},
   "outputs": [
    {
     "data": {
      "text/plain": [
       "tensor([[[14.28131580352783203125],\n",
       "         [24.05461502075195312500],\n",
       "         [ 7.43200540542602539062],\n",
       "         [15.15580844879150390625],\n",
       "         [ 9.18322181701660156250],\n",
       "         [13.10358333587646484375],\n",
       "         [17.40460205078125000000],\n",
       "         [12.19045543670654296875],\n",
       "         [23.82216644287109375000],\n",
       "         [ 7.05704593658447265625],\n",
       "         [17.25232696533203125000],\n",
       "         [20.00258636474609375000],\n",
       "         [18.79585075378417968750],\n",
       "         [21.22477340698242187500],\n",
       "         [14.41637134552001953125],\n",
       "         [15.75590419769287109375],\n",
       "         [17.75372886657714843750],\n",
       "         [ 8.76658630371093750000],\n",
       "         [10.27936077117919921875],\n",
       "         [15.49850082397460937500],\n",
       "         [ 9.20280742645263671875],\n",
       "         [14.18077754974365234375],\n",
       "         [10.15601634979248046875],\n",
       "         [16.25111961364746093750],\n",
       "         [ 3.78031039237976074219],\n",
       "         [ 9.38233947753906250000],\n",
       "         [ 9.47266864776611328125],\n",
       "         [21.51583671569824218750],\n",
       "         [13.81126785278320312500],\n",
       "         [21.34796714782714843750],\n",
       "         [ 8.38886070251464843750],\n",
       "         [ 9.28605175018310546875],\n",
       "         [11.94101333618164062500],\n",
       "         [24.14321899414062500000],\n",
       "         [20.10706710815429687500],\n",
       "         [10.38769721984863281250],\n",
       "         [-0.12374646961688995361],\n",
       "         [17.87675094604492187500],\n",
       "         [ 8.52323818206787109375],\n",
       "         [16.19012641906738281250],\n",
       "         [23.97930908203125000000],\n",
       "         [14.72665882110595703125],\n",
       "         [ 8.32018566131591796875],\n",
       "         [14.10322952270507812500],\n",
       "         [14.91409206390380859375],\n",
       "         [11.73676395416259765625],\n",
       "         [19.24315834045410156250],\n",
       "         [16.26405143737792968750],\n",
       "         [26.71212005615234375000],\n",
       "         [22.36525344848632812500]]], grad_fn=<AddBackward0>)"
      ]
     },
     "execution_count": 484,
     "metadata": {},
     "output_type": "execute_result"
    }
   ],
   "source": [
    "q"
   ]
  },
  {
   "cell_type": "code",
   "execution_count": 485,
   "metadata": {},
   "outputs": [
    {
     "data": {
      "text/plain": [
       "array([[0.       , 0.8617108, 0.       , ..., 2.9443212, 1.6430234,\n",
       "        0.       ],\n",
       "       [0.       , 1.2265255, 0.       , ..., 5.152973 , 2.7418263,\n",
       "        0.       ],\n",
       "       [0.       , 0.5079716, 0.       , ..., 1.5078253, 0.8041742,\n",
       "        0.       ],\n",
       "       ...,\n",
       "       [0.       , 0.9792337, 0.       , ..., 3.3934157, 1.9109591,\n",
       "        0.       ],\n",
       "       [0.       , 1.3594515, 0.       , ..., 5.7255826, 3.066163 ,\n",
       "        0.       ],\n",
       "       [0.       , 1.1541593, 0.       , ..., 4.7845616, 2.549925 ,\n",
       "        0.       ]], dtype=float32)"
      ]
     },
     "execution_count": 485,
     "metadata": {},
     "output_type": "execute_result"
    }
   ],
   "source": [
    "model.mu.detach().numpy()[0]"
   ]
  },
  {
   "cell_type": "code",
   "execution_count": 502,
   "metadata": {},
   "outputs": [
    {
     "data": {
      "text/plain": [
       "array([[ 2.5364783e-01,  1.7921638e-01, -4.1509092e-02],\n",
       "       [-4.0096822e+00,  1.4908285e-01, -7.2916701e-02],\n",
       "       [ 3.2532051e+00,  2.2622366e-01, -2.3982435e-02],\n",
       "       [-1.6413257e-01, -2.5274789e-02, -3.9184798e-02],\n",
       "       [ 2.1211250e+00,  4.3738917e-02,  1.3270833e-02],\n",
       "       [ 6.1062241e-01,  8.0947705e-02, -1.5196304e-02],\n",
       "       [-1.4364524e+00, -1.4386666e-01,  5.0625717e-03],\n",
       "       [ 7.9112351e-01, -6.0314488e-02,  9.7928150e-03],\n",
       "       [-3.6610017e+00,  9.2058189e-02,  3.3521077e-01],\n",
       "       [ 3.3683019e+00, -7.0172191e-02, -1.8782090e-02],\n",
       "       [-1.2050676e+00, -1.8033626e-02, -2.8021710e-02],\n",
       "       [-2.2344341e+00,  1.8181315e-01, -7.0206083e-02],\n",
       "       [-1.7021056e+00,  1.1346479e-01, -7.6561615e-02],\n",
       "       [-2.6506968e+00,  4.0503234e-01, -8.1929266e-02],\n",
       "       [ 1.5604529e-01,  1.8021563e-01, -3.1562373e-02],\n",
       "       [-7.2399694e-01, -3.3650556e-01,  2.6720262e-03],\n",
       "       [-1.6172273e+00, -2.7121165e-01, -1.3563857e-02],\n",
       "       [ 2.2207050e+00, -3.3405179e-01,  4.6214953e-02],\n",
       "       [ 1.9697387e+00,  1.2103514e-02, -3.2718111e-02],\n",
       "       [-6.0687894e-01,  5.7721991e-02, -3.0227914e-03],\n",
       "       [ 2.8510354e+00,  3.8895983e-01, -1.0652128e-01],\n",
       "       [ 1.7421216e-01, -3.0288523e-01, -2.6346270e-02],\n",
       "       [ 1.7016816e+00, -2.5449094e-01,  2.0186305e-02],\n",
       "       [-7.0005488e-01, -1.8240540e-01, -1.4090613e-02],\n",
       "       [ 4.7857409e+00,  1.5563065e-01,  1.5659083e-02],\n",
       "       [ 2.1865005e+00, -1.2401024e-01, -5.9909299e-03],\n",
       "       [ 2.1652067e+00, -1.1669035e-01, -3.0352660e-03],\n",
       "       [-2.8806500e+00, -3.8078662e-02, -4.8645690e-02],\n",
       "       [ 3.6046961e-01,  2.4137340e-01, -1.8205026e-02],\n",
       "       [-2.9743695e+00, -3.6061627e-01, -3.9344493e-02],\n",
       "       [ 2.4058776e+00, -1.1573202e-01,  3.3539101e-02],\n",
       "       [ 2.4182591e+00,  2.7855980e-01, -4.0937636e-02],\n",
       "       [ 1.3425877e+00,  2.5009525e-01, -4.2889502e-02],\n",
       "       [-4.1875205e+00, -9.0691075e-02, -2.8233228e-02],\n",
       "       [-2.4329567e+00, -2.2638991e-01, -4.2434759e-02],\n",
       "       [ 1.9808053e+00,  1.1936015e-02, -4.3750972e-02],\n",
       "       [ 5.6183748e+00, -2.3365286e-01,  3.4409836e-01],\n",
       "       [-1.2064598e+00,  1.9900343e-01, -8.2941651e-02],\n",
       "       [ 2.9606431e+00,  3.6376631e-01, -5.5777941e-02],\n",
       "       [-4.8879901e-01, -2.3499556e-01, -5.9208438e-02],\n",
       "       [-3.7619050e+00,  3.9310721e-01,  3.1736404e-01],\n",
       "       [-2.4928208e-01, -2.5683549e-01,  1.1371681e-02],\n",
       "       [ 2.6624918e+00,  1.3737926e-01,  6.9852420e-03],\n",
       "       [-8.5988402e-02, -2.5860941e-01,  2.3242351e-02],\n",
       "       [ 5.4093921e-03,  2.1587988e-02, -6.8437010e-02],\n",
       "       [ 1.1538714e+00, -1.2736391e-01, -2.9930375e-03],\n",
       "       [-1.7824872e+00,  2.5763212e-02, -6.8756990e-02],\n",
       "       [-5.9395146e-01, -2.3679577e-01, -6.2731862e-02],\n",
       "       [-5.0747027e+00, -2.3924834e-03, -9.6012622e-02],\n",
       "       [-3.0868812e+00,  2.3328847e-01,  3.2178164e-01]], dtype=float32)"
      ]
     },
     "execution_count": 502,
     "metadata": {},
     "output_type": "execute_result"
    },
    {
     "data": {
      "image/png": "[encoded data removed]",
      "text/plain": [
       "<matplotlib.figure.Figure at 0x7fd6176f8898>"
      ]
     },
     "metadata": {},
     "output_type": "display_data"
    }
   ],
   "source": [
    "pca = decomposition.PCA(n_components=3)\n",
    "x=model.mu.detach().numpy()[0]\n",
    "#x=np.sqrt(10000*x)\n",
    "result = pca.fit_transform(x)\n",
    "\n",
    "plt.scatter(result[:, 0], result[:, 1],s=30,c=result[:,2])\n",
    "#for k,(i,j) in enumerate(zip(result[:,0],result[:,1])):\n",
    " #   plt.annotate('%s)' %k, xy=(i,j), xytext=((-1)**(k)*20,(-1)**(k)*10), textcoords='offset points')\n",
    "    #plt.annotate('(%s,' %i, xy=(i,j))\n",
    "plt.grid()\n",
    "plt.xlabel(\"1st component\")\n",
    "plt.ylabel(\"2nd component\")\n",
    "result"
   ]
  },
  {
   "cell_type": "code",
   "execution_count": 487,
   "metadata": {},
   "outputs": [
    {
     "data": {
      "image/png": "[encoded data removed]",
      "text/plain": [
       "<matplotlib.figure.Figure at 0x7fd607647978>"
      ]
     },
     "metadata": {},
     "output_type": "display_data"
    }
   ],
   "source": [
    "plt.figure(figsize=(20,20))\n",
    "nx.draw(g,with_labels=True)"
   ]
  },
  {
   "cell_type": "code",
   "execution_count": 510,
   "metadata": {},
   "outputs": [
    {
     "data": {
      "text/plain": [
       "array([[-2.13837191e-01,  2.21241582e-02, -7.47990757e-02],\n",
       "       [ 2.20150977e-01,  1.88688070e-01, -1.31910411e-03],\n",
       "       [ 2.79700398e-01,  4.32675928e-02, -2.77423840e-02],\n",
       "       [-1.96207181e-01, -1.87485531e-01, -1.02826156e-01],\n",
       "       [-1.82119861e-01, -1.82752654e-01, -5.65182455e-02],\n",
       "       [-1.60059959e-01,  1.29477344e-02,  1.93438604e-01],\n",
       "       [ 3.11515957e-01, -1.84131518e-01, -4.85637151e-02],\n",
       "       [-2.29975984e-01,  3.45656335e-01, -2.57622078e-02],\n",
       "       [ 2.89319277e-01, -1.21395327e-02,  1.29714224e-03],\n",
       "       [-2.01967746e-01,  1.74444437e-01, -3.98524329e-02],\n",
       "       [-1.42003283e-01, -2.24292904e-01,  9.20168310e-02],\n",
       "       [-2.00663134e-01,  9.49435402e-03, -3.70697565e-02],\n",
       "       [ 2.85954237e-01,  5.48823690e-03, -5.11574605e-03],\n",
       "       [-1.60707787e-01, -6.99583218e-02,  8.48893300e-02],\n",
       "       [ 2.79700398e-01,  4.32675853e-02, -2.77423542e-02],\n",
       "       [ 2.83208132e-01,  1.06935641e-02,  3.56249474e-02],\n",
       "       [-1.70250148e-01, -2.34420493e-01, -1.03351707e-02],\n",
       "       [ 2.79830605e-01,  2.22792160e-02,  4.17960249e-02],\n",
       "       [-1.70618638e-01, -5.82129732e-02,  4.51272208e-05],\n",
       "       [-2.00968817e-01,  2.75042951e-01,  8.53812695e-03]], dtype=float32)"
      ]
     },
     "execution_count": 510,
     "metadata": {},
     "output_type": "execute_result"
    },
    {
     "data": {
      "image/png": "[encoded data removed]",
      "text/plain": [
       "<matplotlib.figure.Figure at 0x7fd60752a2e8>"
      ]
     },
     "metadata": {},
     "output_type": "display_data"
    }
   ],
   "source": [
    "pca = decomposition.PCA(n_components=3)\n",
    "x=model.mu.detach().numpy()[0]\n",
    "#x=np.sqrt(10000*x)\n",
    "result = pca.fit_transform(x)\n",
    "\n",
    "plt.scatter(result[:, 0], result[:, 1],s=30,c=result[:,2])\n",
    "for k,(i,j) in enumerate(zip(result[:,0],result[:,1])):\n",
    "    plt.annotate('%s)' %k, xy=(i,j), xytext=((-1)**(k)*20,(-1)**(k)*30), textcoords='offset points')\n",
    "    #plt.annotate('(%s,' %i, xy=(i,j))\n",
    "result"
   ]
  },
  {
   "cell_type": "code",
   "execution_count": 489,
   "metadata": {},
   "outputs": [],
   "source": [
    "xv=torch.zeros(32, node, 1, dtype=torch.float)\n",
    "done=False\n",
    "def get_reward(observation,last_observation,g):\n",
    "\n",
    "    new_nbr_nodes=np.sum(observation[0].numpy())\n",
    "    last_nbr_nodes=np.sum(last_observation[0].numpy())\n",
    "    \n",
    "    if new_nbr_nodes - last_nbr_nodes > 0:\n",
    "        reward = -1#np.round(-1.0/20.0,3)\n",
    "    else:\n",
    "        reward = 0\n",
    "\n",
    "    #Minimum vertex set:\n",
    "\n",
    "    done = True\n",
    "\n",
    "    edge_add = 0\n",
    "\n",
    "    for edge in g.edges():\n",
    "        if observation[:,edge[0],:]==0 and observation[:,edge[1],:]==0:\n",
    "            done=False\n",
    "            # break\n",
    "        else:\n",
    "            edge_add += 1\n",
    "\n",
    "    return (reward,done)\n",
    "def get_optimal(g):\n",
    "    x = list(range(g.number_of_nodes()))\n",
    "    xv = pulp.LpVariable.dicts('is_opti', x,\n",
    "                               lowBound=0,\n",
    "                               upBound=1,\n",
    "                               cat=pulp.LpInteger)\n",
    "\n",
    "    mdl = pulp.LpProblem(\"MVC\", pulp.LpMinimize)\n",
    "\n",
    "    mdl += sum(xv[k] for k in xv)\n",
    "\n",
    "    for edge in g.edges():\n",
    "        mdl += xv[edge[0]] + xv[edge[1]] >= 1, \"constraint :\" + str(edge)\n",
    "    mdl.solve()\n",
    "\n",
    "    #print(\"Status:\", pulp.LpStatus[mdl.status])\n",
    "    optimal=0\n",
    "    for x in xv:\n",
    "        optimal += xv[x].value()\n",
    "        #print(xv[x].value())\n",
    "    return optimal"
   ]
  },
  {
   "cell_type": "code",
   "execution_count": 490,
   "metadata": {},
   "outputs": [],
   "source": [
    "xv[:,8,:]=1"
   ]
  },
  {
   "cell_type": "code",
   "execution_count": 491,
   "metadata": {},
   "outputs": [],
   "source": [
    "#model(xv,adj)"
   ]
  },
  {
   "cell_type": "code",
   "execution_count": 524,
   "metadata": {},
   "outputs": [
    {
     "name": "stdout",
     "output_type": "stream",
     "text": [
      "0\n"
     ]
    },
    {
     "data": {
      "image/png": "[encoded data removed]",
      "text/plain": [
       "<matplotlib.figure.Figure at 0x7fd6075196d8>"
      ]
     },
     "metadata": {},
     "output_type": "display_data"
    },
    {
     "name": "stdout",
     "output_type": "stream",
     "text": [
      "5\n"
     ]
    },
    {
     "data": {
      "image/png": "[encoded data removed]",
      "text/plain": [
       "<matplotlib.figure.Figure at 0x7fd6177a1780>"
      ]
     },
     "metadata": {},
     "output_type": "display_data"
    },
    {
     "name": "stdout",
     "output_type": "stream",
     "text": [
      "7\n"
     ]
    },
    {
     "data": {
      "image/png": "[encoded data removed]",
      "text/plain": [
       "<matplotlib.figure.Figure at 0x7fd6177a56a0>"
      ]
     },
     "metadata": {},
     "output_type": "display_data"
    },
    {
     "name": "stdout",
     "output_type": "stream",
     "text": [
      "-3\n",
      "3.0\n",
      "3.0\n"
     ]
    },
    {
     "data": {
      "image/png": "[encoded data removed]",
      "text/plain": [
       "<matplotlib.figure.Figure at 0x7fd6076d6898>"
      ]
     },
     "metadata": {},
     "output_type": "display_data"
    }
   ],
   "source": [
    "node=10\n",
    "g=nx.erdos_renyi_graph(p=0.15,n=node,seed=367)\n",
    "xv=torch.zeros(1, node, 1, dtype=torch.float)\n",
    "#xv[:,9,:]=1\n",
    "#xv[:,8,:]=1\n",
    "adj = nx.adj_matrix(g)\n",
    "adj = adj.todense()\n",
    "adj = torch.from_numpy(np.expand_dims(adj.astype(int), axis=0))\n",
    "adj = adj.type(torch.FloatTensor)\n",
    "done=False\n",
    "reward=0\n",
    "while done==False:\n",
    "    q_a = model(xv, adj)\n",
    "    \n",
    "    q_a=q_a.detach().numpy()\n",
    "    last_xv=xv.clone()\n",
    "    selec_=np.where((q_a[0, :, 0] == np.max(q_a[0, :, 0][xv.numpy()[0, :, 0] == 0])))[0][0]\n",
    "    print(selec_)\n",
    "    pca = decomposition.PCA(n_components=3)\n",
    "    x=model.mu.detach().numpy()[0]\n",
    "    #x=np.sqrt(10000*x)\n",
    "    result = pca.fit_transform(x)\n",
    "\n",
    "    plt.scatter(result[:, 0], result[:, 1],s=30,c=result[:,2])\n",
    "    for k,(i,j) in enumerate(zip(result[:,0],result[:,1])):\n",
    "        plt.annotate('%s)' %k, xy=(i,j), xytext=((-1)**(k)*20,(-1)**(k)*30), textcoords='offset points')\n",
    "        #plt.annotate('(%s,' %i, xy=(i,j))\n",
    "    plt.show()\n",
    "    xv[:,selec_,:]=1\n",
    "    (rew,done)=get_reward(xv,last_xv,g)\n",
    "    reward+=rew\n",
    "q_a = model(xv, adj)\n",
    "pca = decomposition.PCA(n_components=3)\n",
    "x=model.mu.detach().numpy()[0]\n",
    "#x=np.sqrt(10000*x)\n",
    "result = pca.fit_transform(x)\n",
    "\n",
    "plt.scatter(result[:, 0], result[:, 1],s=30,c=result[:,2])\n",
    "for k,(i,j) in enumerate(zip(result[:,0],result[:,1])):\n",
    "        plt.annotate('%s)' %k, xy=(i,j), xytext=((-1)**(k)*20,(-1)**(k)*30), textcoords='offset points')\n",
    "        #plt.annotate('(%s,' %i, xy=(i,j))\n",
    "print(reward)\n",
    "print(np.sum(xv[0].numpy()))\n",
    "print(get_optimal(g))"
   ]
  },
  {
   "cell_type": "code",
   "execution_count": 520,
   "metadata": {},
   "outputs": [
    {
     "data": {
      "image/png": "[encoded data removed]",
      "text/plain": [
       "<matplotlib.figure.Figure at 0x7fd620de5a58>"
      ]
     },
     "metadata": {},
     "output_type": "display_data"
    }
   ],
   "source": [
    "nx.draw(g,with_labels=True)"
   ]
  },
  {
   "cell_type": "code",
   "execution_count": 410,
   "metadata": {},
   "outputs": [
    {
     "data": {
      "text/plain": [
       "10"
      ]
     },
     "execution_count": 410,
     "metadata": {},
     "output_type": "execute_result"
    }
   ],
   "source": [
    "g.number_of_nodes()"
   ]
  },
  {
   "cell_type": "code",
   "execution_count": 266,
   "metadata": {},
   "outputs": [],
   "source": [
    "for i in range(0):\n",
    "    print(\"ee\")"
   ]
  },
  {
   "cell_type": "code",
   "execution_count": null,
   "metadata": {},
   "outputs": [],
   "source": []
  }
 ],
 "metadata": {
  "kernelspec": {
   "display_name": "Python 3",
   "language": "python",
   "name": "python3"
  },
  "language_info": {
   "codemirror_mode": {
    "name": "ipython",
    "version": 3
   },
   "file_extension": ".py",
   "mimetype": "text/x-python",
   "name": "python",
   "nbconvert_exporter": "python",
   "pygments_lexer": "ipython3",
   "version": "3.6.3"
  }
 },
 "nbformat": 4,
 "nbformat_minor": 2
}
